{
 "cells": [
  {
   "cell_type": "code",
   "execution_count": 1,
   "id": "6aa3bd40",
   "metadata": {},
   "outputs": [],
   "source": [
    "                                        #PYTHON NUMBER"
   ]
  },
  {
   "cell_type": "code",
   "execution_count": 1,
   "id": "ea39f965",
   "metadata": {},
   "outputs": [
    {
     "data": {
      "text/plain": [
       "int"
      ]
     },
     "execution_count": 1,
     "metadata": {},
     "output_type": "execute_result"
    }
   ],
   "source": [
    "n=5\n",
    "type(n)"
   ]
  },
  {
   "cell_type": "code",
   "execution_count": 10,
   "id": "b918b082",
   "metadata": {},
   "outputs": [
    {
     "name": "stdout",
     "output_type": "stream",
     "text": [
      "<class 'complex'>\n"
     ]
    },
    {
     "data": {
      "text/plain": [
       "26.0"
      ]
     },
     "execution_count": 10,
     "metadata": {},
     "output_type": "execute_result"
    }
   ],
   "source": [
    "   n=26+5j \n",
    "#           NOTE\n",
    "#        5j --->> complex number \n",
    "#     n-->>  real part = 26 \n",
    "#     n-->>  imag part = 5\n",
    "print(type(n))\n",
    "n.real"
   ]
  },
  {
   "cell_type": "code",
   "execution_count": 11,
   "id": "f576b84c",
   "metadata": {},
   "outputs": [
    {
     "data": {
      "text/plain": [
       "5.0"
      ]
     },
     "execution_count": 11,
     "metadata": {},
     "output_type": "execute_result"
    }
   ],
   "source": [
    "n.imag"
   ]
  },
  {
   "cell_type": "code",
   "execution_count": 36,
   "id": "ef2eac27",
   "metadata": {},
   "outputs": [
    {
     "name": "stdout",
     "output_type": "stream",
     "text": [
      "1.2\n",
      "1\n",
      "---------------\n",
      "1.4285714285714286\n",
      "1\n",
      "---------------\n",
      "1.8333333333333333\n",
      "1\n",
      "---------------\n",
      "15625\n"
     ]
    }
   ],
   "source": [
    "print(6/5) \n",
    "print(6//5)# print integer number of 6/5\n",
    "print(\"---------------\")\n",
    "print(10/7)\n",
    "print(10//7)\n",
    "print(\"---------------\")\n",
    "print(11/6)\n",
    "print(11//6)\n",
    "print(\"---------------\")\n",
    "print(5**6)# -----> thats mean 5^6 "
   ]
  },
  {
   "cell_type": "code",
   "execution_count": 41,
   "id": "5b6f1dd1",
   "metadata": {},
   "outputs": [
    {
     "name": "stdout",
     "output_type": "stream",
     "text": [
      "<class 'int'>\n",
      "<class 'float'>\n",
      "<class 'complex'>\n",
      "---------------\n",
      "15.0\n",
      "16.0\n",
      "---------------\n",
      "37.0\n",
      "28.0\n",
      "---------------\n"
     ]
    }
   ],
   "source": [
    "x=1\n",
    "y=10.22\n",
    "z=15+16j\n",
    "print(type(x)) \n",
    "print(type(y))\n",
    "print(type(z))\n",
    "print(\"---------------\")\n",
    "print(z.real) \n",
    "print(z.imag) \n",
    "print(\"---------------\")\n",
    "print(z.real+22) \n",
    "print(z.imag+12) # --->> print part imag + 12 --> 12+16\n",
    "print(\"---------------\")"
   ]
  },
  {
   "cell_type": "code",
   "execution_count": 42,
   "id": "b7dc6b4c",
   "metadata": {},
   "outputs": [],
   "source": [
    "                                         # Conversion"
   ]
  },
  {
   "cell_type": "code",
   "execution_count": 61,
   "id": "ca6c31ad",
   "metadata": {},
   "outputs": [
    {
     "name": "stdout",
     "output_type": "stream",
     "text": [
      "165\n"
     ]
    },
    {
     "data": {
      "text/plain": [
       "str"
      ]
     },
     "execution_count": 61,
     "metadata": {},
     "output_type": "execute_result"
    }
   ],
   "source": [
    "x=\"165\"\n",
    "print(x)\n",
    "type (x)"
   ]
  },
  {
   "cell_type": "code",
   "execution_count": 58,
   "id": "f9c88098",
   "metadata": {},
   "outputs": [
    {
     "name": "stdout",
     "output_type": "stream",
     "text": [
      "165\n"
     ]
    },
    {
     "data": {
      "text/plain": [
       "int"
      ]
     },
     "execution_count": 58,
     "metadata": {},
     "output_type": "execute_result"
    }
   ],
   "source": [
    "x=int(x)\n",
    "print(x)\n",
    "type(x)"
   ]
  },
  {
   "cell_type": "code",
   "execution_count": 59,
   "id": "5661cc56",
   "metadata": {},
   "outputs": [
    {
     "name": "stdout",
     "output_type": "stream",
     "text": [
      "165.0\n"
     ]
    },
    {
     "data": {
      "text/plain": [
       "float"
      ]
     },
     "execution_count": 59,
     "metadata": {},
     "output_type": "execute_result"
    }
   ],
   "source": [
    "x=float(x)\n",
    "print(x)\n",
    "type(x)"
   ]
  },
  {
   "cell_type": "code",
   "execution_count": 60,
   "id": "d7f0fe8f",
   "metadata": {},
   "outputs": [
    {
     "name": "stdout",
     "output_type": "stream",
     "text": [
      "(165+0j)\n"
     ]
    },
    {
     "data": {
      "text/plain": [
       "complex"
      ]
     },
     "execution_count": 60,
     "metadata": {},
     "output_type": "execute_result"
    }
   ],
   "source": [
    "x=complex(x)\n",
    "print(x)\n",
    "type(x)"
   ]
  },
  {
   "cell_type": "code",
   "execution_count": 66,
   "id": "e7ac5c4b",
   "metadata": {},
   "outputs": [
    {
     "data": {
      "text/plain": [
       "(5+3j)"
      ]
     },
     "execution_count": 66,
     "metadata": {},
     "output_type": "execute_result"
    }
   ],
   "source": [
    "complex(5,3)"
   ]
  },
  {
   "cell_type": "code",
   "execution_count": 67,
   "id": "72fbd6ba",
   "metadata": {},
   "outputs": [
    {
     "name": "stdout",
     "output_type": "stream",
     "text": [
      "(6+10j)\n"
     ]
    }
   ],
   "source": [
    "x=complex(6,10)\n",
    "print(x)"
   ]
  },
  {
   "cell_type": "code",
   "execution_count": 68,
   "id": "6ff78f28",
   "metadata": {
    "scrolled": true
   },
   "outputs": [
    {
     "name": "stdout",
     "output_type": "stream",
     "text": [
      "10\n"
     ]
    }
   ],
   "source": [
    "x=int(10.32)\n",
    "print(x)"
   ]
  },
  {
   "cell_type": "code",
   "execution_count": 69,
   "id": "9b96c076",
   "metadata": {},
   "outputs": [
    {
     "name": "stdout",
     "output_type": "stream",
     "text": [
      "10.0\n"
     ]
    }
   ],
   "source": [
    "x=float(10)\n",
    "print(x)"
   ]
  },
  {
   "cell_type": "code",
   "execution_count": null,
   "id": "39de52c9",
   "metadata": {},
   "outputs": [],
   "source": [
    "                                             # functions"
   ]
  },
  {
   "cell_type": "code",
   "execution_count": 64,
   "id": "04e42487",
   "metadata": {},
   "outputs": [
    {
     "name": "stdout",
     "output_type": "stream",
     "text": [
      "15\n"
     ]
    }
   ],
   "source": [
    "x=-15\n",
    "print(abs(x))#---> abs value of x"
   ]
  },
  {
   "cell_type": "code",
   "execution_count": 19,
   "id": "14726b04",
   "metadata": {},
   "outputs": [],
   "source": [
    "                                          #math مكتبة ال"
   ]
  },
  {
   "cell_type": "code",
   "execution_count": 74,
   "id": "27efe01e",
   "metadata": {},
   "outputs": [],
   "source": [
    "import math            # important to import it"
   ]
  },
  {
   "cell_type": "code",
   "execution_count": 79,
   "id": "fdf53bc3",
   "metadata": {},
   "outputs": [
    {
     "name": "stdout",
     "output_type": "stream",
     "text": [
      "4.607186634331292e+28\n",
      "2.718281828459045\n",
      "3.141592653589793\n",
      "8.12403840463596\n",
      "8.12403840463596\n"
     ]
    }
   ],
   "source": [
    "x=66\n",
    "print(math.exp(x)) # that is mean e^x \n",
    "print(math.e)# --> value of e\n",
    "print(math.pi)# value of pi\n",
    "print(math.sqrt(x)) # square root of x \n",
    "print(math.sqrt(66))# square root of x "
   ]
  },
  {
   "cell_type": "code",
   "execution_count": 85,
   "id": "4b2992fd",
   "metadata": {},
   "outputs": [
    {
     "data": {
      "text/plain": [
       "99"
      ]
     },
     "execution_count": 85,
     "metadata": {},
     "output_type": "execute_result"
    }
   ],
   "source": [
    "max(2,36,5,99)"
   ]
  },
  {
   "cell_type": "code",
   "execution_count": 87,
   "id": "2096995f",
   "metadata": {},
   "outputs": [
    {
     "data": {
      "text/plain": [
       "-55"
      ]
     },
     "execution_count": 87,
     "metadata": {},
     "output_type": "execute_result"
    }
   ],
   "source": [
    "min(2,1,16,0,-55)"
   ]
  },
  {
   "cell_type": "code",
   "execution_count": null,
   "id": "dc755424",
   "metadata": {},
   "outputs": [],
   "source": [
    "                                   # GOOD LUCK \n",
    "                                # created by Abdulrahman Mohammed "
   ]
  }
 ],
 "metadata": {
  "kernelspec": {
   "display_name": "Python 3 (ipykernel)",
   "language": "python",
   "name": "python3"
  },
  "language_info": {
   "codemirror_mode": {
    "name": "ipython",
    "version": 3
   },
   "file_extension": ".py",
   "mimetype": "text/x-python",
   "name": "python",
   "nbconvert_exporter": "python",
   "pygments_lexer": "ipython3",
   "version": "3.9.13"
  }
 },
 "nbformat": 4,
 "nbformat_minor": 5
}
