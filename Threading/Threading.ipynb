{
 "cells": [
  {
   "cell_type": "markdown",
   "id": "41c4bc5b",
   "metadata": {},
   "source": [
    "# Threading"
   ]
  },
  {
   "cell_type": "code",
   "execution_count": 1,
   "id": "7e9729e0",
   "metadata": {},
   "outputs": [
    {
     "name": "stdout",
     "output_type": "stream",
     "text": [
      "child thread\n",
      "parent thread\n"
     ]
    }
   ],
   "source": [
    "from threading import *\n",
    "def show():\n",
    "    print(\"child thread\")\n",
    "t=Thread(target=show())\n",
    "t.start()\n",
    "print(\"parent thread\")"
   ]
  },
  {
   "cell_type": "code",
   "execution_count": 2,
   "id": "17ebe44e",
   "metadata": {},
   "outputs": [
    {
     "name": "stdout",
     "output_type": "stream",
     "text": [
      "child class\n",
      "child class\n",
      "child class\n",
      "child class\n",
      "child class\n",
      "main thread\n",
      "main thread\n",
      "main thread\n",
      "main thread\n",
      "main thread\n"
     ]
    }
   ],
   "source": [
    "from threading import *\n",
    "\n",
    "class MyThread ():\n",
    "    def run(self):\n",
    "        for i in range (5):\n",
    "            print(\"child class\")\n",
    "t=MyThread()\n",
    "t.run()\n",
    "for i in range (5):\n",
    "            print(\"main thread\")"
   ]
  },
  {
   "cell_type": "markdown",
   "id": "9b6adf6d",
   "metadata": {},
   "source": [
    "# multithreading"
   ]
  },
  {
   "cell_type": "code",
   "execution_count": 7,
   "id": "5a6d1dee",
   "metadata": {},
   "outputs": [
    {
     "name": "stdout",
     "output_type": "stream",
     "text": [
      " number is  1\n",
      " number is  2\n",
      " number is  3\n",
      " number is  4\n",
      " number is  5\n",
      " double number is  1\n",
      " double number is  2\n",
      " double number is  3\n",
      " double number is  4\n",
      " double number is  5\n",
      " the square number is  1\n",
      " the square number is  2\n",
      " the square number is  3\n",
      " the square number is  4\n",
      " the square number is  5\n",
      "main thread\n"
     ]
    }
   ],
   "source": [
    "from threading import *\n",
    "\n",
    "class demo():\n",
    "    def num(self):\n",
    "        for i in range (1,6):\n",
    "             print (\" number is \", i)\n",
    "              \n",
    "    def double(self):\n",
    "         for i in range (1,6):\n",
    "                print(\" double number is \", i)\n",
    "    def square(self):\n",
    "         for i in range (1,6):\n",
    "                print(\" the square number is \", i)\n",
    "obj=demo()\n",
    "t1=Thread(target=obj.num)\n",
    "t2=Thread(target=obj.double)\n",
    "t3=Thread(target=obj.square)\n",
    "\n",
    "t1.start()\n",
    "t2.start()\n",
    "t3.start()\n",
    "\n",
    "t1.join()\n",
    "t2.join()\n",
    "t3.join()\n",
    "\n",
    "print(\"main thread\")"
   ]
  },
  {
   "cell_type": "markdown",
   "id": "4075942c",
   "metadata": {},
   "source": [
    "# Created by\n",
    "Abdulrahman Mohammed"
   ]
  }
 ],
 "metadata": {
  "kernelspec": {
   "display_name": "Python 3 (ipykernel)",
   "language": "python",
   "name": "python3"
  },
  "language_info": {
   "codemirror_mode": {
    "name": "ipython",
    "version": 3
   },
   "file_extension": ".py",
   "mimetype": "text/x-python",
   "name": "python",
   "nbconvert_exporter": "python",
   "pygments_lexer": "ipython3",
   "version": "3.9.13"
  }
 },
 "nbformat": 4,
 "nbformat_minor": 5
}
