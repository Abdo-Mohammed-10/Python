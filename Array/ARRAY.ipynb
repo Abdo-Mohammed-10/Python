{
 "cells": [
  {
   "cell_type": "code",
   "execution_count": 2,
   "id": "6084e722",
   "metadata": {},
   "outputs": [
    {
     "name": "stdout",
     "output_type": "stream",
     "text": [
      "array('d', [2.0, 5.0, 9.0, 6.0])\n"
     ]
    }
   ],
   "source": [
    "from array import*\n",
    "arr =array(\"d\",[2,5,9,6])\n",
    "print(arr)"
   ]
  },
  {
   "cell_type": "code",
   "execution_count": 3,
   "id": "b5eaa295",
   "metadata": {},
   "outputs": [
    {
     "name": "stdout",
     "output_type": "stream",
     "text": [
      "(2594189436400, 4)\n"
     ]
    }
   ],
   "source": [
    "print(arr.buffer_info())"
   ]
  },
  {
   "cell_type": "code",
   "execution_count": 4,
   "id": "5c325818",
   "metadata": {},
   "outputs": [
    {
     "data": {
      "text/plain": [
       "9.0"
      ]
     },
     "execution_count": 4,
     "metadata": {},
     "output_type": "execute_result"
    }
   ],
   "source": [
    "arr[2]"
   ]
  },
  {
   "cell_type": "code",
   "execution_count": 5,
   "id": "d8cb3c8b",
   "metadata": {},
   "outputs": [
    {
     "name": "stdout",
     "output_type": "stream",
     "text": [
      "2.0\n",
      "5.0\n",
      "9.0\n",
      "6.0\n"
     ]
    }
   ],
   "source": [
    "for i in arr:\n",
    "    print(i)\n",
    "    "
   ]
  },
  {
   "cell_type": "code",
   "execution_count": 7,
   "id": "dcf3060c",
   "metadata": {},
   "outputs": [
    {
     "name": "stdout",
     "output_type": "stream",
     "text": [
      "2.0\n",
      "5.0\n",
      "9.0\n",
      "6.0\n"
     ]
    }
   ],
   "source": [
    "for pnt in range (4) :\n",
    "    print( arr[pnt])"
   ]
  },
  {
   "cell_type": "code",
   "execution_count": 8,
   "id": "52aeeae1",
   "metadata": {},
   "outputs": [],
   "source": [
    "arr.reverse()"
   ]
  },
  {
   "cell_type": "code",
   "execution_count": 19,
   "id": "e61acbf2",
   "metadata": {},
   "outputs": [
    {
     "name": "stdout",
     "output_type": "stream",
     "text": [
      "array('d', [6.0, 9.0, 5.0, 2.0])\n"
     ]
    }
   ],
   "source": [
    "print(arr)"
   ]
  },
  {
   "cell_type": "code",
   "execution_count": 9,
   "id": "b1b06797",
   "metadata": {},
   "outputs": [
    {
     "name": "stdout",
     "output_type": "stream",
     "text": [
      "array('d', [6.0, 9.0, 5.0, 2.0, 50.0])\n"
     ]
    }
   ],
   "source": [
    "arr.append(50)\n",
    "print(arr)"
   ]
  },
  {
   "cell_type": "code",
   "execution_count": 10,
   "id": "98b570a3",
   "metadata": {},
   "outputs": [
    {
     "name": "stdout",
     "output_type": "stream",
     "text": [
      "array('d', [6.0, 5.0, 2.0, 50.0])\n"
     ]
    }
   ],
   "source": [
    "arr.remove(9)\n",
    "print(arr)"
   ]
  },
  {
   "cell_type": "markdown",
   "id": "9eec7d9f",
   "metadata": {},
   "source": [
    "# GOOD LUCK\n",
    "Abdulrahman Mohammed "
   ]
  }
 ],
 "metadata": {
  "kernelspec": {
   "display_name": "Python 3 (ipykernel)",
   "language": "python",
   "name": "python3"
  },
  "language_info": {
   "codemirror_mode": {
    "name": "ipython",
    "version": 3
   },
   "file_extension": ".py",
   "mimetype": "text/x-python",
   "name": "python",
   "nbconvert_exporter": "python",
   "pygments_lexer": "ipython3",
   "version": "3.9.13"
  }
 },
 "nbformat": 4,
 "nbformat_minor": 5
}
