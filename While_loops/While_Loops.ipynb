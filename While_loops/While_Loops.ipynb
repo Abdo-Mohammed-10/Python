{
 "cells": [
  {
   "cell_type": "markdown",
   "id": "8601868f",
   "metadata": {},
   "source": [
    "# While loops"
   ]
  },
  {
   "cell_type": "code",
   "execution_count": 2,
   "id": "1d3d3ca4",
   "metadata": {},
   "outputs": [
    {
     "name": "stdout",
     "output_type": "stream",
     "text": [
      "simplelearn :  5\n",
      "simplelearn :  6\n",
      "simplelearn :  7\n",
      "simplelearn :  8\n",
      "simplelearn :  9\n",
      "simplelearn :  10\n"
     ]
    }
   ],
   "source": [
    "i=5\n",
    "while i<=10:\n",
    "    print (\"simplelearn : \",i)\n",
    "    i+=1"
   ]
  },
  {
   "cell_type": "code",
   "execution_count": 9,
   "id": "d460cd32",
   "metadata": {},
   "outputs": [
    {
     "name": "stdout",
     "output_type": "stream",
     "text": [
      "55\n"
     ]
    }
   ],
   "source": [
    "i=1\n",
    "sum=0\n",
    "while i<=10:\n",
    "    sum=sum+i\n",
    "    i+=1\n",
    "print(sum)"
   ]
  },
  {
   "cell_type": "code",
   "execution_count": 11,
   "id": "b46b750f",
   "metadata": {},
   "outputs": [
    {
     "name": "stdout",
     "output_type": "stream",
     "text": [
      "30\n"
     ]
    }
   ],
   "source": [
    "i=1\n",
    "sum=0\n",
    "while i<=10:\n",
    "    if i%2==0 :\n",
    "         sum=sum+i\n",
    "    i+=1\n",
    "print(sum)"
   ]
  },
  {
   "cell_type": "markdown",
   "id": "b9c88c25",
   "metadata": {},
   "source": [
    "# FLIP NUMBERS"
   ]
  },
  {
   "cell_type": "code",
   "execution_count": 25,
   "id": "1b2ffcc6",
   "metadata": {},
   "outputs": [
    {
     "name": "stdout",
     "output_type": "stream",
     "text": [
      "entre a number : 123456\n",
      "654321\n"
     ]
    }
   ],
   "source": [
    "n=int(input(\"entre a number : \"))\n",
    "nr=0\n",
    "while n%10!=0 :\n",
    "    c=n%10\n",
    "    nr=nr*10+c\n",
    "    n=n//10\n",
    "print(nr)"
   ]
  },
  {
   "cell_type": "markdown",
   "id": "540b1a40",
   "metadata": {},
   "source": [
    "# TRY & EXCEPT"
   ]
  },
  {
   "cell_type": "code",
   "execution_count": 31,
   "id": "f207b74a",
   "metadata": {},
   "outputs": [
    {
     "name": "stdout",
     "output_type": "stream",
     "text": [
      "4\n"
     ]
    }
   ],
   "source": [
    "X=[1,2,3,\"SIMPLElearn\"]\n",
    "length=0\n",
    "i=0\n",
    "try:\n",
    "     while X[i] :\n",
    "        length+=1\n",
    "        i+=1\n",
    "except IndexError :\n",
    "    print(length)"
   ]
  },
  {
   "cell_type": "code",
   "execution_count": 35,
   "id": "d9756389",
   "metadata": {},
   "outputs": [
    {
     "name": "stdout",
     "output_type": "stream",
     "text": [
      "entre a number 5\n",
      "1 \n",
      "2 2 \n",
      "3 3 3 \n",
      "4 4 4 4 \n",
      "5 5 5 5 5 \n"
     ]
    }
   ],
   "source": [
    "n=int(input(\"entre a number \"))\n",
    "i=1\n",
    "while i<=n:\n",
    "    j=1\n",
    "    while j<=i :\n",
    "        print (i,end=' ')\n",
    "        j+=1\n",
    "    i+=1\n",
    "    print()"
   ]
  },
  {
   "cell_type": "code",
   "execution_count": 50,
   "id": "68054b70",
   "metadata": {},
   "outputs": [
    {
     "name": "stdout",
     "output_type": "stream",
     "text": [
      "7192\n",
      "entre 4 digit 22\n",
      "1 digit were guessed right\n",
      "entre a 4 digit number356\n",
      "1 digit were guessed right\n",
      "entre a 4 digit number1112\n",
      "1 digit were guessed right\n",
      "entre a 4 digit number1000\n",
      "1 digit were guessed right\n",
      "entre a 4 digit number2000\n",
      "you quite the game\n"
     ]
    }
   ],
   "source": [
    "import random\n",
    "nump= random.randint(1000,9999)\n",
    "print(nump)\n",
    "n=int(input(\"entre 4 digit \"))\n",
    "while n!=10:\n",
    "    num=nump\n",
    "    cor=0\n",
    "    while num%10:\n",
    "        numc=num%10\n",
    "        nc=n%10\n",
    "        num=num//10\n",
    "        n=n//10\n",
    "        if numc==nc:\n",
    "            cor=cor+1\n",
    "        if cor==4:\n",
    "            print(\"excllent you guessed it right \")\n",
    "            break\n",
    "        else :\n",
    "            print( \"%d digit were guessed right\"%cor)\n",
    "            n=int(input(\"entre a 4 digit number\"))\n",
    "    else:\n",
    "        print(\"you quite the game\")\n",
    "        break"
   ]
  }
 ],
 "metadata": {
  "kernelspec": {
   "display_name": "Python 3 (ipykernel)",
   "language": "python",
   "name": "python3"
  },
  "language_info": {
   "codemirror_mode": {
    "name": "ipython",
    "version": 3
   },
   "file_extension": ".py",
   "mimetype": "text/x-python",
   "name": "python",
   "nbconvert_exporter": "python",
   "pygments_lexer": "ipython3",
   "version": "3.9.13"
  }
 },
 "nbformat": 4,
 "nbformat_minor": 5
}
