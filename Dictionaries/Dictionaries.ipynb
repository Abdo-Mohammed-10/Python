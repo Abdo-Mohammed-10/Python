{
 "cells": [
  {
   "cell_type": "markdown",
   "id": "0e043749",
   "metadata": {},
   "source": [
    "#                                           DICTIONARIES"
   ]
  },
  {
   "cell_type": "code",
   "execution_count": 2,
   "id": "3622dafc",
   "metadata": {},
   "outputs": [
    {
     "name": "stdout",
     "output_type": "stream",
     "text": [
      "<class 'dict'>\n"
     ]
    }
   ],
   "source": [
    "d={} # equal to f=dict({})  or f=dict([()])\n",
    "print(type(d))"
   ]
  },
  {
   "cell_type": "markdown",
   "id": "43ec76e3",
   "metadata": {},
   "source": [
    "# Creating dict"
   ]
  },
  {
   "cell_type": "code",
   "execution_count": 9,
   "id": "662915fa",
   "metadata": {},
   "outputs": [],
   "source": [
    "d={1:\"abdo\",2:\"mohammed\"}"
   ]
  },
  {
   "cell_type": "code",
   "execution_count": 10,
   "id": "e7124068",
   "metadata": {},
   "outputs": [
    {
     "data": {
      "text/plain": [
       "dict"
      ]
     },
     "execution_count": 10,
     "metadata": {},
     "output_type": "execute_result"
    }
   ],
   "source": [
    "type(d)"
   ]
  },
  {
   "cell_type": "code",
   "execution_count": 12,
   "id": "c7f9e0e8",
   "metadata": {},
   "outputs": [
    {
     "name": "stdout",
     "output_type": "stream",
     "text": [
      "{1: 'abdo', 2: 'mohammed'}\n"
     ]
    }
   ],
   "source": [
    "print(d)"
   ]
  },
  {
   "cell_type": "code",
   "execution_count": 16,
   "id": "adc4fbe8",
   "metadata": {},
   "outputs": [
    {
     "name": "stdout",
     "output_type": "stream",
     "text": [
      "abdo\n"
     ]
    }
   ],
   "source": [
    "print(d[1]) # --->> here pass key"
   ]
  },
  {
   "cell_type": "markdown",
   "id": "d69a2f9f",
   "metadata": {},
   "source": [
    "# Nested dict"
   ]
  },
  {
   "cell_type": "code",
   "execution_count": 17,
   "id": "c7b4b15f",
   "metadata": {},
   "outputs": [],
   "source": [
    "f={1:{\"abdo\",\"c\"},2:\"mohammed\"}"
   ]
  },
  {
   "cell_type": "code",
   "execution_count": 18,
   "id": "c8d617d0",
   "metadata": {},
   "outputs": [
    {
     "name": "stdout",
     "output_type": "stream",
     "text": [
      "{1: {'abdo', 'c'}, 2: 'mohammed'}\n"
     ]
    }
   ],
   "source": [
    "print(f)"
   ]
  },
  {
   "cell_type": "markdown",
   "id": "391d8116",
   "metadata": {},
   "source": [
    "#                                          adding elements"
   ]
  },
  {
   "cell_type": "code",
   "execution_count": 80,
   "id": "e4901b30",
   "metadata": {},
   "outputs": [
    {
     "name": "stdout",
     "output_type": "stream",
     "text": [
      "{0: 'ab', 1: 'gg'}\n"
     ]
    }
   ],
   "source": [
    "d={}\n",
    "d[0]=\"ab\"\n",
    "d[1]=\"gg\"\n",
    "print(d)"
   ]
  },
  {
   "cell_type": "code",
   "execution_count": 81,
   "id": "ba34f21c",
   "metadata": {},
   "outputs": [
    {
     "name": "stdout",
     "output_type": "stream",
     "text": [
      "{}\n"
     ]
    }
   ],
   "source": [
    "d={}\n",
    "print(d)"
   ]
  },
  {
   "cell_type": "code",
   "execution_count": 82,
   "id": "2373da84",
   "metadata": {
    "scrolled": true
   },
   "outputs": [
    {
     "name": "stdout",
     "output_type": "stream",
     "text": [
      "{'omar': 'ben-khatab'}\n"
     ]
    }
   ],
   "source": [
    "d[\"omar\"]=\"ben-khatab\"\n",
    "print(d)"
   ]
  },
  {
   "cell_type": "code",
   "execution_count": 83,
   "id": "7049287e",
   "metadata": {},
   "outputs": [],
   "source": [
    "d[\"name\"]={\"alhabib\":\"mohammed\",\"rasulallah\":\"mohammed\"}"
   ]
  },
  {
   "cell_type": "code",
   "execution_count": 84,
   "id": "43f3bfdc",
   "metadata": {},
   "outputs": [
    {
     "name": "stdout",
     "output_type": "stream",
     "text": [
      "{'omar': 'ben-khatab', 'name': {'alhabib': 'mohammed', 'rasulallah': 'mohammed'}}\n"
     ]
    }
   ],
   "source": [
    "print (d)"
   ]
  },
  {
   "cell_type": "code",
   "execution_count": 85,
   "id": "be6a408d",
   "metadata": {},
   "outputs": [
    {
     "name": "stdout",
     "output_type": "stream",
     "text": [
      "mohammed\n"
     ]
    }
   ],
   "source": [
    "print(d[\"name\"][\"rasulallah\"])"
   ]
  },
  {
   "cell_type": "markdown",
   "id": "3725aa4c",
   "metadata": {},
   "source": [
    "#                                      accessing elements"
   ]
  },
  {
   "cell_type": "code",
   "execution_count": 86,
   "id": "0b79b239",
   "metadata": {},
   "outputs": [
    {
     "name": "stdout",
     "output_type": "stream",
     "text": [
      "ben-khatab\n"
     ]
    }
   ],
   "source": [
    "print(d.get('omar')) #{'omar': 'ben-khatab', 'name': {'abdullah': 'mohammed', 'rasulallah': 'mohammed'}}\n",
    "\n"
   ]
  },
  {
   "cell_type": "markdown",
   "id": "b4316a15",
   "metadata": {},
   "source": [
    "#                                        deleting dict"
   ]
  },
  {
   "cell_type": "code",
   "execution_count": 87,
   "id": "660b3668",
   "metadata": {},
   "outputs": [
    {
     "data": {
      "text/plain": [
       "'ben-khatab'"
      ]
     },
     "execution_count": 87,
     "metadata": {},
     "output_type": "execute_result"
    }
   ],
   "source": [
    "d.pop('omar')  # with function pop pass -->> key or dict"
   ]
  },
  {
   "cell_type": "code",
   "execution_count": 88,
   "id": "d276b036",
   "metadata": {},
   "outputs": [
    {
     "name": "stdout",
     "output_type": "stream",
     "text": [
      "{'name': {'alhabib': 'mohammed', 'rasulallah': 'mohammed'}}\n"
     ]
    }
   ],
   "source": [
    "print(d)"
   ]
  },
  {
   "cell_type": "code",
   "execution_count": 89,
   "id": "b6f188c7",
   "metadata": {},
   "outputs": [
    {
     "data": {
      "text/plain": [
       "('name', {'alhabib': 'mohammed', 'rasulallah': 'mohammed'})"
      ]
     },
     "execution_count": 89,
     "metadata": {},
     "output_type": "execute_result"
    }
   ],
   "source": [
    "d.popitem() # delete last elements"
   ]
  },
  {
   "cell_type": "code",
   "execution_count": 90,
   "id": "29ef3e8a",
   "metadata": {},
   "outputs": [
    {
     "name": "stdout",
     "output_type": "stream",
     "text": [
      "{}\n"
     ]
    }
   ],
   "source": [
    "print(d)"
   ]
  },
  {
   "cell_type": "markdown",
   "id": "94cec02b",
   "metadata": {},
   "source": [
    "#                                        USING IN BUILT FUNCTION"
   ]
  },
  {
   "cell_type": "code",
   "execution_count": 93,
   "id": "6a33925a",
   "metadata": {},
   "outputs": [],
   "source": [
    "d={0:\"bbb\",1:\"ddd\",2:\"sss\"}"
   ]
  },
  {
   "cell_type": "code",
   "execution_count": 94,
   "id": "d308b6fb",
   "metadata": {},
   "outputs": [
    {
     "data": {
      "text/plain": [
       "dict_values(['bbb', 'ddd', 'sss'])"
      ]
     },
     "execution_count": 94,
     "metadata": {},
     "output_type": "execute_result"
    }
   ],
   "source": [
    "d.values() # just value only"
   ]
  },
  {
   "cell_type": "code",
   "execution_count": 97,
   "id": "1b8cde6e",
   "metadata": {},
   "outputs": [
    {
     "data": {
      "text/plain": [
       "{'zz': 1, 'xx': 1, 'cc': 1}"
      ]
     },
     "execution_count": 97,
     "metadata": {},
     "output_type": "execute_result"
    }
   ],
   "source": [
    "k={\"cc\",\"xx\",\"zz\"}\n",
    "val=1\n",
    "dict.fromkeys(k,val) # fromkeys set every elements of k as key and and his value will be val ."
   ]
  },
  {
   "cell_type": "code",
   "execution_count": 98,
   "id": "3aebdfb7",
   "metadata": {},
   "outputs": [],
   "source": [
    "k.clear()"
   ]
  },
  {
   "cell_type": "code",
   "execution_count": 99,
   "id": "ec50a80b",
   "metadata": {},
   "outputs": [
    {
     "name": "stdout",
     "output_type": "stream",
     "text": [
      "set()\n"
     ]
    }
   ],
   "source": [
    "print(k)"
   ]
  },
  {
   "cell_type": "markdown",
   "id": "cff377ab",
   "metadata": {},
   "source": [
    "#                                 GOOOOOOOD LUCK \n",
    " Abdulrahman Mohammed"
   ]
  }
 ],
 "metadata": {
  "kernelspec": {
   "display_name": "Python 3 (ipykernel)",
   "language": "python",
   "name": "python3"
  },
  "language_info": {
   "codemirror_mode": {
    "name": "ipython",
    "version": 3
   },
   "file_extension": ".py",
   "mimetype": "text/x-python",
   "name": "python",
   "nbconvert_exporter": "python",
   "pygments_lexer": "ipython3",
   "version": "3.9.13"
  }
 },
 "nbformat": 4,
 "nbformat_minor": 5
}
