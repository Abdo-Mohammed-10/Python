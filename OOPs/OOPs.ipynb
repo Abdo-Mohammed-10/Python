{
 "cells": [
  {
   "cell_type": "markdown",
   "id": "83b9fd96",
   "metadata": {},
   "source": [
    "# OOPs"
   ]
  },
  {
   "cell_type": "code",
   "execution_count": 48,
   "id": "5a4deaad",
   "metadata": {},
   "outputs": [],
   "source": [
    "class car():\n",
    "    def __init__(self,year,speed):\n",
    "        self.year=year\n",
    "        self.speed=speed\n",
    "    def getspeed(self):\n",
    "        print(\" speed is \",self.speed, \"mph\" )\n",
    "    def setspeed(self,speed):\n",
    "        self.speed=speed"
   ]
  },
  {
   "cell_type": "code",
   "execution_count": 49,
   "id": "7a8766b8",
   "metadata": {},
   "outputs": [],
   "source": [
    "Audi=car(1908,166)\n",
    "Ford=car(1988,140)"
   ]
  },
  {
   "cell_type": "code",
   "execution_count": 50,
   "id": "09b9f23f",
   "metadata": {},
   "outputs": [
    {
     "name": "stdout",
     "output_type": "stream",
     "text": [
      " speed is  166 mph\n",
      " speed is  140 mph\n"
     ]
    }
   ],
   "source": [
    "Audi.getspeed()\n",
    "Ford.getspeed()"
   ]
  },
  {
   "cell_type": "code",
   "execution_count": 51,
   "id": "6a5828ba",
   "metadata": {},
   "outputs": [],
   "source": [
    "Audi.setspeed(200)\n",
    "Ford.setspeed(150)"
   ]
  },
  {
   "cell_type": "code",
   "execution_count": 52,
   "id": "0e4887c6",
   "metadata": {},
   "outputs": [
    {
     "name": "stdout",
     "output_type": "stream",
     "text": [
      " speed is  200 mph\n",
      " speed is  150 mph\n"
     ]
    }
   ],
   "source": [
    "Audi.getspeed()\n",
    "Ford.getspeed()"
   ]
  },
  {
   "cell_type": "markdown",
   "id": "f53e14b8",
   "metadata": {},
   "source": [
    "# GOOD LUCK\n",
    "Abdulrahman Mohammed"
   ]
  }
 ],
 "metadata": {
  "kernelspec": {
   "display_name": "Python 3 (ipykernel)",
   "language": "python",
   "name": "python3"
  },
  "language_info": {
   "codemirror_mode": {
    "name": "ipython",
    "version": 3
   },
   "file_extension": ".py",
   "mimetype": "text/x-python",
   "name": "python",
   "nbconvert_exporter": "python",
   "pygments_lexer": "ipython3",
   "version": "3.9.13"
  }
 },
 "nbformat": 4,
 "nbformat_minor": 5
}
