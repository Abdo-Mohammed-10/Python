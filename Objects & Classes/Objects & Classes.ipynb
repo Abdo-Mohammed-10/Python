{
 "cells": [
  {
   "cell_type": "markdown",
   "id": "46fe9f3f",
   "metadata": {},
   "source": [
    "# Objects & Classes"
   ]
  },
  {
   "cell_type": "code",
   "execution_count": 24,
   "id": "7583c6eb",
   "metadata": {},
   "outputs": [],
   "source": [
    "class person :\n",
    "    def __init__(self):\n",
    "        self.name=\"sam\"\n",
    "        self.gender=\"male\"\n",
    "        self.age=22\n",
    "    def talk(self):\n",
    "        print(\"my name\", self.name)\n",
    "    def vote(self):\n",
    "        if self.age<18:\n",
    "            print(\"i am not eligable to vote\")\n",
    "        else:\n",
    "            print(\"i am eligable to vote\")\n",
    "    \n"
   ]
  },
  {
   "cell_type": "code",
   "execution_count": 25,
   "id": "67cbece1",
   "metadata": {},
   "outputs": [
    {
     "name": "stdout",
     "output_type": "stream",
     "text": [
      "my name sam\n",
      "i am eligable to vote\n"
     ]
    }
   ],
   "source": [
    "obj= person()\n",
    "obj.talk()\n",
    "obj.vote()"
   ]
  },
  {
   "cell_type": "code",
   "execution_count": 26,
   "id": "bf567c4b",
   "metadata": {},
   "outputs": [],
   "source": [
    "class person :\n",
    "    def __init__(self,n,g,a):\n",
    "        self.name=n\n",
    "        self.gender=g\n",
    "        self.age=a\n",
    "    def talk(self):\n",
    "        print(\"my name\", self.name)\n",
    "    def vote(self):\n",
    "        if self.age<18:\n",
    "            print(\"i am not eligable to vote\")\n",
    "        else:\n",
    "            print(\"i am eligable to vote\")\n",
    "    "
   ]
  },
  {
   "cell_type": "code",
   "execution_count": 29,
   "id": "298addf9",
   "metadata": {},
   "outputs": [
    {
     "name": "stdout",
     "output_type": "stream",
     "text": [
      "Anne quarisma\n"
     ]
    }
   ],
   "source": [
    "obj2=person(\"quarisma\",\"male\",22)\n",
    "obj3=person(\"Anne\",\"female\",16)\n",
    "print(obj3.name,obj2.name)\n"
   ]
  },
  {
   "cell_type": "code",
   "execution_count": 30,
   "id": "935de816",
   "metadata": {},
   "outputs": [
    {
     "name": "stdout",
     "output_type": "stream",
     "text": [
      "my name quarisma\n",
      "i am eligable to vote\n"
     ]
    }
   ],
   "source": [
    "obj2.talk()\n",
    "obj2.vote()"
   ]
  },
  {
   "cell_type": "code",
   "execution_count": 31,
   "id": "c17b7f9e",
   "metadata": {},
   "outputs": [
    {
     "name": "stdout",
     "output_type": "stream",
     "text": [
      "my name Anne\n",
      "i am not eligable to vote\n"
     ]
    }
   ],
   "source": [
    "obj3.talk()\n",
    "obj3.vote()"
   ]
  },
  {
   "cell_type": "markdown",
   "id": "c342685c",
   "metadata": {},
   "source": [
    "# Good luck\n",
    "Abdulrahman Mohammed"
   ]
  }
 ],
 "metadata": {
  "kernelspec": {
   "display_name": "Python 3 (ipykernel)",
   "language": "python",
   "name": "python3"
  },
  "language_info": {
   "codemirror_mode": {
    "name": "ipython",
    "version": 3
   },
   "file_extension": ".py",
   "mimetype": "text/x-python",
   "name": "python",
   "nbconvert_exporter": "python",
   "pygments_lexer": "ipython3",
   "version": "3.9.13"
  }
 },
 "nbformat": 4,
 "nbformat_minor": 5
}
