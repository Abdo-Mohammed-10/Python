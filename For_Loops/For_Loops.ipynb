{
 "cells": [
  {
   "cell_type": "markdown",
   "id": "588114b5",
   "metadata": {},
   "source": [
    "#            FOR LOOPS"
   ]
  },
  {
   "cell_type": "code",
   "execution_count": 4,
   "id": "4145e5cf",
   "metadata": {},
   "outputs": [],
   "source": [
    "x=[12,3,11]\n",
    "   "
   ]
  },
  {
   "cell_type": "code",
   "execution_count": 5,
   "id": "9d3ce040",
   "metadata": {},
   "outputs": [
    {
     "name": "stdout",
     "output_type": "stream",
     "text": [
      "12\n"
     ]
    }
   ],
   "source": [
    "print(x[0])"
   ]
  },
  {
   "cell_type": "code",
   "execution_count": 6,
   "id": "83e4a994",
   "metadata": {},
   "outputs": [
    {
     "name": "stdout",
     "output_type": "stream",
     "text": [
      "12 3\n"
     ]
    }
   ],
   "source": [
    "print(x[0],x[1])"
   ]
  },
  {
   "cell_type": "code",
   "execution_count": 7,
   "id": "1c9c1149",
   "metadata": {
    "scrolled": true
   },
   "outputs": [
    {
     "name": "stdout",
     "output_type": "stream",
     "text": [
      "1\n",
      "2\n",
      "3\n",
      "4\n",
      "5\n",
      "6\n",
      "7\n",
      "8\n",
      "9\n",
      "10\n",
      "11\n"
     ]
    }
   ],
   "source": [
    "for i in range(1,12):\n",
    "    print(i)"
   ]
  },
  {
   "cell_type": "code",
   "execution_count": 8,
   "id": "11cfead9",
   "metadata": {},
   "outputs": [
    {
     "name": "stdout",
     "output_type": "stream",
     "text": [
      "1\n",
      "3\n",
      "5\n",
      "7\n",
      "9\n",
      "11\n",
      "13\n",
      "15\n",
      "17\n",
      "19\n"
     ]
    }
   ],
   "source": [
    "for i in range(1,20,2) :  \n",
    "    print(i)"
   ]
  },
  {
   "cell_type": "code",
   "execution_count": 17,
   "id": "4c76033d",
   "metadata": {},
   "outputs": [
    {
     "name": "stdout",
     "output_type": "stream",
     "text": [
      "1\n",
      "3\n",
      "6\n",
      "10\n"
     ]
    }
   ],
   "source": [
    "sum=0\n",
    "for i in range (1,5):\n",
    "    sum=sum+i\n",
    "    print(sum)"
   ]
  },
  {
   "cell_type": "code",
   "execution_count": 19,
   "id": "de28ad40",
   "metadata": {},
   "outputs": [
    {
     "name": "stdout",
     "output_type": "stream",
     "text": [
      "0\n",
      "2\n",
      "2\n",
      "6\n"
     ]
    }
   ],
   "source": [
    "sum=0\n",
    "for i in range (1,5):\n",
    "    if i%2==0:\n",
    "     sum=sum+i\n",
    "    print(sum)"
   ]
  },
  {
   "cell_type": "code",
   "execution_count": 12,
   "id": "24d356ad",
   "metadata": {},
   "outputs": [
    {
     "name": "stdout",
     "output_type": "stream",
     "text": [
      "enter number5\n",
      "1 \n",
      "1 2 \n",
      "1 2 3 \n",
      "1 2 3 4 \n",
      "1 2 3 4 5 \n"
     ]
    }
   ],
   "source": [
    "n=int(input(\"enter number\"))\n",
    "for i in range(1,n+1):\n",
    "    for j in range(1,i+1):\n",
    "        print(j,end=\" \")\n",
    "    print()"
   ]
  },
  {
   "cell_type": "code",
   "execution_count": 10,
   "id": "1bb7bc02",
   "metadata": {},
   "outputs": [
    {
     "name": "stdout",
     "output_type": "stream",
     "text": [
      "entre r 2\n",
      "entre c 2\n",
      "entre 0 0 elements 1\n",
      "entre 0 1 elements 2\n",
      "entre 1 0 elements 3\n",
      "entre 1 1 elements 4\n",
      "entre 0 0 elements 5\n",
      "entre 0 1 elements 6\n",
      "entre 1 0 elements 7\n",
      "entre 1 1 elements 8\n",
      "[['15', '26'], ['37', '48']]\n"
     ]
    }
   ],
   "source": [
    "r=int(input(\"entre r \"))\n",
    "c=int(input(\"entre c \"))\n",
    "x=[]\n",
    "val=[]\n",
    "for i in range(0,r):\n",
    "    for j in range(0,c):\n",
    "            val.insert(j,input(\"entre %d %d elements \" %(i,j)))\n",
    "    x.insert(i,val)\n",
    "    val=[]\n",
    "y=[] \n",
    "for i in range (0,r):\n",
    "      for j in range(0,c):\n",
    "            val.insert(j,input(\"entre %d %d elements \" %(i,j)))\n",
    "      y.insert(i,val)\n",
    "      val=[]\n",
    "sum=[]\n",
    "for i in range (0,r):\n",
    "    for j in range(0,c):\n",
    "            val.insert(j,x[i][j]+y[i][j])\n",
    "    sum.insert(i,val)\n",
    "    val=[]\n",
    "print(sum)  "
   ]
  },
  {
   "cell_type": "markdown",
   "id": "01741eac",
   "metadata": {},
   "source": [
    "# GOOD LUCK\n",
    "Abdulrahman Mohammed"
   ]
  }
 ],
 "metadata": {
  "kernelspec": {
   "display_name": "Python 3 (ipykernel)",
   "language": "python",
   "name": "python3"
  },
  "language_info": {
   "codemirror_mode": {
    "name": "ipython",
    "version": 3
   },
   "file_extension": ".py",
   "mimetype": "text/x-python",
   "name": "python",
   "nbconvert_exporter": "python",
   "pygments_lexer": "ipython3",
   "version": "3.9.13"
  }
 },
 "nbformat": 4,
 "nbformat_minor": 5
}
