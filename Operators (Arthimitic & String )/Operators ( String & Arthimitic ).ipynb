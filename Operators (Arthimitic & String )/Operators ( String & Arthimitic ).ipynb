{
 "cells": [
  {
   "cell_type": "code",
   "execution_count": 2,
   "id": "52c431d6",
   "metadata": {},
   "outputs": [],
   "source": [
    "                                    #Arthimitic operator\n",
    "    #                                      (+,-,%,*)"
   ]
  },
  {
   "cell_type": "code",
   "execution_count": 9,
   "id": "6ce77ac7",
   "metadata": {},
   "outputs": [],
   "source": [
    "x=66\n",
    "y=12"
   ]
  },
  {
   "cell_type": "code",
   "execution_count": 16,
   "id": "ce0c5981",
   "metadata": {},
   "outputs": [
    {
     "name": "stdout",
     "output_type": "stream",
     "text": [
      "78\n",
      "54\n",
      "792\n",
      "78\n",
      "6\n",
      "12\n",
      "5.5\n",
      "5\n",
      "100\n"
     ]
    }
   ],
   "source": [
    "result=x+y+22\n",
    "print(x+y)\n",
    "print(x-y)\n",
    "print(x*y)\n",
    "print(x^y)\n",
    "print(x%y)\n",
    "print(y%x)\n",
    "#note: y%x != x%y\n",
    "print(x/y)\n",
    "print(x//y)\n",
    "print(result)"
   ]
  },
  {
   "cell_type": "code",
   "execution_count": 17,
   "id": "a6a2cba1",
   "metadata": {},
   "outputs": [],
   "source": [
    "                                #ARTHIMITIC WITH LISTS"
   ]
  },
  {
   "cell_type": "code",
   "execution_count": 18,
   "id": "258d8dc5",
   "metadata": {},
   "outputs": [],
   "source": [
    "x=[1,2,2]\n",
    "y=[3,6,94]"
   ]
  },
  {
   "cell_type": "code",
   "execution_count": 19,
   "id": "d4299b9f",
   "metadata": {},
   "outputs": [
    {
     "name": "stdout",
     "output_type": "stream",
     "text": [
      "[1, 2, 2, 3, 6, 94]\n"
     ]
    }
   ],
   "source": [
    "print(x+y) #that is only  arthimtic operator true"
   ]
  },
  {
   "cell_type": "code",
   "execution_count": 21,
   "id": "9cf91a41",
   "metadata": {},
   "outputs": [
    {
     "ename": "TypeError",
     "evalue": "unsupported operand type(s) for -: 'list' and 'list'",
     "output_type": "error",
     "traceback": [
      "\u001b[1;31m---------------------------------------------------------------------------\u001b[0m",
      "\u001b[1;31mTypeError\u001b[0m                                 Traceback (most recent call last)",
      "\u001b[1;32m~\\AppData\\Local\\Temp\\ipykernel_15788\\294098706.py\u001b[0m in \u001b[0;36m<module>\u001b[1;34m\u001b[0m\n\u001b[1;32m----> 1\u001b[1;33m \u001b[0mprint\u001b[0m\u001b[1;33m(\u001b[0m\u001b[0mx\u001b[0m\u001b[1;33m-\u001b[0m\u001b[0my\u001b[0m\u001b[1;33m)\u001b[0m\u001b[1;33m\u001b[0m\u001b[1;33m\u001b[0m\u001b[0m\n\u001b[0m",
      "\u001b[1;31mTypeError\u001b[0m: unsupported operand type(s) for -: 'list' and 'list'"
     ]
    }
   ],
   "source": [
    "print(x-y)"
   ]
  },
  {
   "cell_type": "code",
   "execution_count": 22,
   "id": "07403dc4",
   "metadata": {},
   "outputs": [
    {
     "ename": "TypeError",
     "evalue": "can't multiply sequence by non-int of type 'list'",
     "output_type": "error",
     "traceback": [
      "\u001b[1;31m---------------------------------------------------------------------------\u001b[0m",
      "\u001b[1;31mTypeError\u001b[0m                                 Traceback (most recent call last)",
      "\u001b[1;32m~\\AppData\\Local\\Temp\\ipykernel_15788\\1255257579.py\u001b[0m in \u001b[0;36m<module>\u001b[1;34m\u001b[0m\n\u001b[1;32m----> 1\u001b[1;33m \u001b[0mprint\u001b[0m\u001b[1;33m(\u001b[0m\u001b[0mx\u001b[0m\u001b[1;33m*\u001b[0m\u001b[0my\u001b[0m\u001b[1;33m)\u001b[0m\u001b[1;33m\u001b[0m\u001b[1;33m\u001b[0m\u001b[0m\n\u001b[0m",
      "\u001b[1;31mTypeError\u001b[0m: can't multiply sequence by non-int of type 'list'"
     ]
    }
   ],
   "source": [
    "print(x*y)"
   ]
  },
  {
   "cell_type": "code",
   "execution_count": 23,
   "id": "06fa028e",
   "metadata": {},
   "outputs": [
    {
     "ename": "SyntaxError",
     "evalue": "unexpected character after line continuation character (935328549.py, line 1)",
     "output_type": "error",
     "traceback": [
      "\u001b[1;36m  File \u001b[1;32m\"C:\\Users\\HP Elite BOOK\\AppData\\Local\\Temp\\ipykernel_15788\\935328549.py\"\u001b[1;36m, line \u001b[1;32m1\u001b[0m\n\u001b[1;33m    print(x\\y) # or print(x/y) too not true\u001b[0m\n\u001b[1;37m            ^\u001b[0m\n\u001b[1;31mSyntaxError\u001b[0m\u001b[1;31m:\u001b[0m unexpected character after line continuation character\n"
     ]
    }
   ],
   "source": [
    "print(x\\y) # or print(x/y) too not true"
   ]
  },
  {
   "cell_type": "code",
   "execution_count": 24,
   "id": "7bec3c66",
   "metadata": {},
   "outputs": [
    {
     "name": "stdout",
     "output_type": "stream",
     "text": [
      "[1, 2, 2] [3, 6, 94]\n",
      "7\n",
      "94\n"
     ]
    }
   ],
   "source": [
    "print(x,y)\n",
    "print(x[0]+y[1])\n",
    "print(x[0]*y[2])   # Applying arthimitic operator just like that "
   ]
  },
  {
   "cell_type": "code",
   "execution_count": 25,
   "id": "d4806f20",
   "metadata": {},
   "outputs": [],
   "source": [
    "                             #ARTHIMITIC WITH TUPLES"
   ]
  },
  {
   "cell_type": "code",
   "execution_count": 28,
   "id": "3d4666a1",
   "metadata": {},
   "outputs": [],
   "source": [
    "x=(123,\"ABF\")\n",
    "y=(33,25)"
   ]
  },
  {
   "cell_type": "code",
   "execution_count": 26,
   "id": "fae3a7cd",
   "metadata": {},
   "outputs": [
    {
     "name": "stdout",
     "output_type": "stream",
     "text": [
      "[1, 2, 2, 3, 6, 94]\n",
      "1\n"
     ]
    }
   ],
   "source": [
    "print(x+y)# (only)-->> Arthimitic true like lists .\n",
    "print(x[0])"
   ]
  },
  {
   "cell_type": "code",
   "execution_count": 29,
   "id": "becf545e",
   "metadata": {},
   "outputs": [
    {
     "ename": "NameError",
     "evalue": "name 'pr' is not defined",
     "output_type": "error",
     "traceback": [
      "\u001b[1;31m---------------------------------------------------------------------------\u001b[0m",
      "\u001b[1;31mNameError\u001b[0m                                 Traceback (most recent call last)",
      "\u001b[1;32m~\\AppData\\Local\\Temp\\ipykernel_15788\\931802388.py\u001b[0m in \u001b[0;36m<module>\u001b[1;34m\u001b[0m\n\u001b[1;32m----> 1\u001b[1;33m \u001b[0mpr\u001b[0m\u001b[1;33m(\u001b[0m\u001b[0mx\u001b[0m\u001b[1;33m-\u001b[0m\u001b[0my\u001b[0m\u001b[1;33m)\u001b[0m \u001b[1;31m#and other arthimitic operator can't use it until \"+\"\u001b[0m\u001b[1;33m\u001b[0m\u001b[1;33m\u001b[0m\u001b[0m\n\u001b[0m",
      "\u001b[1;31mNameError\u001b[0m: name 'pr' is not defined"
     ]
    }
   ],
   "source": [
    "pr(x-y) #and other arthimitic operator can't use it until \"+\""
   ]
  },
  {
   "cell_type": "code",
   "execution_count": 30,
   "id": "9178e7db",
   "metadata": {},
   "outputs": [
    {
     "name": "stdout",
     "output_type": "stream",
     "text": [
      "4\n",
      "8\n"
     ]
    }
   ],
   "source": [
    "print(x[0]+y[0])  # YOU CAN USE THE ARTHIMITIC OPERATOERS JUST LIKE THAT\n",
    "print(x[1]+y[1])  # note : impossible add int to ---> string ,so you find errors"
   ]
  },
  {
   "cell_type": "code",
   "execution_count": 31,
   "id": "68d7f367",
   "metadata": {},
   "outputs": [],
   "source": [
    "                         #ARTHIMITIC WITH SETS"
   ]
  },
  {
   "cell_type": "code",
   "execution_count": 35,
   "id": "366f1130",
   "metadata": {},
   "outputs": [
    {
     "name": "stdout",
     "output_type": "stream",
     "text": [
      "{1, 2, 'kk'} {'dd', 22, 55}\n"
     ]
    }
   ],
   "source": [
    "x=set([1,2,\"kk\"])\n",
    "y=set([22,\"dd\",55])\n",
    "print(x,y)"
   ]
  },
  {
   "cell_type": "code",
   "execution_count": 37,
   "id": "a51fa032",
   "metadata": {},
   "outputs": [
    {
     "ename": "TypeError",
     "evalue": "unsupported operand type(s) for +: 'set' and 'set'",
     "output_type": "error",
     "traceback": [
      "\u001b[1;31m---------------------------------------------------------------------------\u001b[0m",
      "\u001b[1;31mTypeError\u001b[0m                                 Traceback (most recent call last)",
      "\u001b[1;32m~\\AppData\\Local\\Temp\\ipykernel_15788\\1804629081.py\u001b[0m in \u001b[0;36m<module>\u001b[1;34m\u001b[0m\n\u001b[1;32m----> 1\u001b[1;33m \u001b[0mprint\u001b[0m\u001b[1;33m(\u001b[0m\u001b[0mx\u001b[0m\u001b[1;33m+\u001b[0m\u001b[0my\u001b[0m\u001b[1;33m)\u001b[0m \u001b[1;31m# ( YOU CAN'T USE ANY ARTHIMITIC OPERATORS) WITH SET\u001b[0m\u001b[1;33m\u001b[0m\u001b[1;33m\u001b[0m\u001b[0m\n\u001b[0m",
      "\u001b[1;31mTypeError\u001b[0m: unsupported operand type(s) for +: 'set' and 'set'"
     ]
    }
   ],
   "source": [
    "print(x+y) # ( YOU CAN'T USE ANY ARTHIMITIC OPERATORS) WITH SET"
   ]
  },
  {
   "cell_type": "code",
   "execution_count": 38,
   "id": "769b9a02",
   "metadata": {},
   "outputs": [
    {
     "ename": "TypeError",
     "evalue": "'set' object is not subscriptable",
     "output_type": "error",
     "traceback": [
      "\u001b[1;31m---------------------------------------------------------------------------\u001b[0m",
      "\u001b[1;31mTypeError\u001b[0m                                 Traceback (most recent call last)",
      "\u001b[1;32m~\\AppData\\Local\\Temp\\ipykernel_15788\\790199370.py\u001b[0m in \u001b[0;36m<module>\u001b[1;34m\u001b[0m\n\u001b[1;32m----> 1\u001b[1;33m \u001b[0mprint\u001b[0m\u001b[1;33m(\u001b[0m\u001b[0mx\u001b[0m\u001b[1;33m[\u001b[0m\u001b[1;36m0\u001b[0m\u001b[1;33m]\u001b[0m\u001b[1;33m+\u001b[0m\u001b[0my\u001b[0m\u001b[1;33m[\u001b[0m\u001b[1;36m1\u001b[0m\u001b[1;33m]\u001b[0m\u001b[1;33m)\u001b[0m \u001b[1;31m# also like that\u001b[0m\u001b[1;33m\u001b[0m\u001b[1;33m\u001b[0m\u001b[0m\n\u001b[0m",
      "\u001b[1;31mTypeError\u001b[0m: 'set' object is not subscriptable"
     ]
    }
   ],
   "source": [
    "print(x[0]+y[1]) # also like that"
   ]
  },
  {
   "cell_type": "code",
   "execution_count": 71,
   "id": "b66bb46e",
   "metadata": {},
   "outputs": [],
   "source": [
    "#                                         string operators "
   ]
  },
  {
   "cell_type": "code",
   "execution_count": 80,
   "id": "0ac123ba",
   "metadata": {},
   "outputs": [
    {
     "name": "stdout",
     "output_type": "stream",
     "text": [
      "my nameabdulrahman\n"
     ]
    }
   ],
   "source": [
    "x=\"my name\"\n",
    "y=\"abdulrahman\"\n",
    "print(x+y)"
   ]
  },
  {
   "cell_type": "code",
   "execution_count": 81,
   "id": "518380d8",
   "metadata": {},
   "outputs": [
    {
     "name": "stdout",
     "output_type": "stream",
     "text": [
      "y\n"
     ]
    }
   ],
   "source": [
    "print(x[1])"
   ]
  },
  {
   "cell_type": "code",
   "execution_count": 88,
   "id": "6f8ac962",
   "metadata": {},
   "outputs": [
    {
     "name": "stdout",
     "output_type": "stream",
     "text": [
      "yu\n"
     ]
    }
   ],
   "source": [
    "print(x[1]+y[3])"
   ]
  },
  {
   "cell_type": "code",
   "execution_count": 94,
   "id": "db6c1869",
   "metadata": {},
   "outputs": [
    {
     "name": "stdout",
     "output_type": "stream",
     "text": [
      "y na\n",
      "my na\n",
      "rahman\n",
      "7\n",
      "11\n"
     ]
    }
   ],
   "source": [
    "print(x[1:5]) #count from index 1 to index 4 .\n",
    "print(x[:5]) #count from index 0 to index 4 .\n",
    "print(y[5:])  # Note : count from index (5) to index end .\n",
    "print(len(x))\n",
    "print(len(y))"
   ]
  },
  {
   "cell_type": "code",
   "execution_count": 85,
   "id": "5bfb64c6",
   "metadata": {},
   "outputs": [
    {
     "ename": "TypeError",
     "evalue": "unsupported operand type(s) for -: 'str' and 'str'",
     "output_type": "error",
     "traceback": [
      "\u001b[1;31m---------------------------------------------------------------------------\u001b[0m",
      "\u001b[1;31mTypeError\u001b[0m                                 Traceback (most recent call last)",
      "\u001b[1;32m~\\AppData\\Local\\Temp\\ipykernel_15788\\3633450837.py\u001b[0m in \u001b[0;36m<module>\u001b[1;34m\u001b[0m\n\u001b[1;32m----> 1\u001b[1;33m \u001b[0mprint\u001b[0m\u001b[1;33m(\u001b[0m\u001b[0mx\u001b[0m\u001b[1;33m-\u001b[0m\u001b[0my\u001b[0m\u001b[1;33m)\u001b[0m \u001b[1;31m#thats not true\u001b[0m\u001b[1;33m\u001b[0m\u001b[1;33m\u001b[0m\u001b[0m\n\u001b[0m",
      "\u001b[1;31mTypeError\u001b[0m: unsupported operand type(s) for -: 'str' and 'str'"
     ]
    }
   ],
   "source": [
    "print(x-y) #thats not true "
   ]
  },
  {
   "cell_type": "code",
   "execution_count": 39,
   "id": "e1c7a2c4",
   "metadata": {},
   "outputs": [],
   "source": [
    "                                              #GOOD LUCK\n",
    "     #                            created with Abdulrahaman Mohammed"
   ]
  }
 ],
 "metadata": {
  "kernelspec": {
   "display_name": "Python 3 (ipykernel)",
   "language": "python",
   "name": "python3"
  },
  "language_info": {
   "codemirror_mode": {
    "name": "ipython",
    "version": 3
   },
   "file_extension": ".py",
   "mimetype": "text/x-python",
   "name": "python",
   "nbconvert_exporter": "python",
   "pygments_lexer": "ipython3",
   "version": "3.9.13"
  }
 },
 "nbformat": 4,
 "nbformat_minor": 5
}
