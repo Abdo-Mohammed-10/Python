{
 "cells": [
  {
   "cell_type": "code",
   "execution_count": 1,
   "id": "4b23e197",
   "metadata": {},
   "outputs": [],
   "source": [
    "                                           #LISTS \n",
    "    #                                  ----> using []"
   ]
  },
  {
   "cell_type": "code",
   "execution_count": 125,
   "id": "7fb45711",
   "metadata": {},
   "outputs": [],
   "source": [
    "# Creating list "
   ]
  },
  {
   "cell_type": "code",
   "execution_count": 213,
   "id": "b78d5ca7",
   "metadata": {},
   "outputs": [
    {
     "name": "stdout",
     "output_type": "stream",
     "text": [
      "[[1, 6, 5], ['ss', 'cc', 'vv']]\n",
      "[1, 36, 1, 2, 5, 'sss']\n"
     ]
    }
   ],
   "source": [
    "x=[1,36,1,2,5,1,16,22,33]\n",
    "b=[1,36,1,2,5,\"sss\"]\n",
    "y=[12,2,5,33,1,1]\n",
    "z=['DS','SS','FF']\n",
    "d=[[1,6,5],[\"ss\",\"cc\",\"vv\"]]\n",
    "print(d)\n",
    "print(b)"
   ]
  },
  {
   "cell_type": "code",
   "execution_count": 214,
   "id": "d05850e7",
   "metadata": {},
   "outputs": [],
   "source": [
    "                                           # Accessing lists"
   ]
  },
  {
   "cell_type": "code",
   "execution_count": 216,
   "id": "3e59067d",
   "metadata": {},
   "outputs": [
    {
     "name": "stdout",
     "output_type": "stream",
     "text": [
      "1\n",
      "5\n",
      "FF\n",
      "[1, 6, 5]\n",
      "['ss', 'cc', 'vv']\n"
     ]
    }
   ],
   "source": [
    "print(x[0]) \n",
    "print(y[2])\n",
    "print(z[2])\n",
    "print(d[0])\n",
    "print(d[1])"
   ]
  },
  {
   "cell_type": "code",
   "execution_count": 129,
   "id": "95f86758",
   "metadata": {},
   "outputs": [
    {
     "data": {
      "text/plain": [
       "[1, 36, 1]"
      ]
     },
     "execution_count": 129,
     "metadata": {},
     "output_type": "execute_result"
    }
   ],
   "source": [
    "x[:3] #x=[1,36,1,2,5,1,16,22,33]"
   ]
  },
  {
   "cell_type": "code",
   "execution_count": 130,
   "id": "9d5b97a5",
   "metadata": {},
   "outputs": [
    {
     "data": {
      "text/plain": [
       "[5, 33, 1, 1]"
      ]
     },
     "execution_count": 130,
     "metadata": {},
     "output_type": "execute_result"
    }
   ],
   "source": [
    "y[2:] #y=[12,2,5,33,1,1]"
   ]
  },
  {
   "cell_type": "code",
   "execution_count": 131,
   "id": "7cf246ea",
   "metadata": {},
   "outputs": [
    {
     "data": {
      "text/plain": [
       "['DS', 'SS']"
      ]
     },
     "execution_count": 131,
     "metadata": {},
     "output_type": "execute_result"
    }
   ],
   "source": [
    "z[0:2] #z=['DS','SS','FF']"
   ]
  },
  {
   "cell_type": "code",
   "execution_count": 132,
   "id": "94d5d095",
   "metadata": {},
   "outputs": [
    {
     "name": "stdout",
     "output_type": "stream",
     "text": [
      "[1, 36, 1, 2, 5, 1, 16, 22, 33, 12, 2, 5, 33, 1, 1]\n",
      "[1, 36, 1, 2, 5, 1, 16, 22, 33, 'DS', 'SS', 'FF']\n"
     ]
    }
   ],
   "source": [
    "print(x+y)\n",
    "print(x+z)\n",
    "# (+) only arthimitic can U use it ."
   ]
  },
  {
   "cell_type": "code",
   "execution_count": 133,
   "id": "dfcaaf46",
   "metadata": {},
   "outputs": [],
   "source": [
    "del(x[0]) #--->> delete index 0\n",
    "# x=[(1),36,1,2,5,1,16,22,33]"
   ]
  },
  {
   "cell_type": "code",
   "execution_count": 134,
   "id": "dc278b96",
   "metadata": {},
   "outputs": [
    {
     "name": "stdout",
     "output_type": "stream",
     "text": [
      "[36, 1, 2, 5, 1, 16, 22, 33]\n"
     ]
    }
   ],
   "source": [
    "print(x)"
   ]
  },
  {
   "cell_type": "code",
   "execution_count": 135,
   "id": "5b7dc4d9",
   "metadata": {},
   "outputs": [
    {
     "name": "stdout",
     "output_type": "stream",
     "text": [
      "22\n",
      "16\n"
     ]
    }
   ],
   "source": [
    "print(x[-2]) # print second element from last\n",
    "print(x[-3]) # print third element from last\n",
    "# x=[36, 1, 2, 5, 1, 16, 22, 33]\n"
   ]
  },
  {
   "cell_type": "code",
   "execution_count": 136,
   "id": "fdbaf0b9",
   "metadata": {},
   "outputs": [
    {
     "data": {
      "text/plain": [
       "[33, 22, 16, 1, 5, 2, 1, 36]"
      ]
     },
     "execution_count": 136,
     "metadata": {},
     "output_type": "execute_result"
    }
   ],
   "source": [
    "x[::-1] # flip list from last to first ."
   ]
  },
  {
   "cell_type": "code",
   "execution_count": 137,
   "id": "411a2003",
   "metadata": {},
   "outputs": [
    {
     "name": "stdout",
     "output_type": "stream",
     "text": [
      "[36, 2, 1, 22]\n",
      "[36, 5, 22]\n",
      "[36, 1]\n",
      "[33, 16, 5, 1]\n"
     ]
    }
   ],
   "source": [
    "print(x[::2]) #--->skip an element\n",
    "print(x[::3]) #--->skip 2 elements\n",
    "print(x[::4]) #---> skip 3 elements\n",
    "print(x[::-2])#---> skip an element from last\n",
    "# x=[36, 1, 2, 5, 1, 16, 22, 33]"
   ]
  },
  {
   "cell_type": "code",
   "execution_count": 138,
   "id": "7c73530e",
   "metadata": {},
   "outputs": [],
   "source": [
    "                                              # Operating on list"
   ]
  },
  {
   "cell_type": "code",
   "execution_count": 139,
   "id": "fa8eb685",
   "metadata": {},
   "outputs": [
    {
     "name": "stdout",
     "output_type": "stream",
     "text": [
      "[1, 1, 1]\n",
      "[5, 5, 5, 5]\n"
     ]
    }
   ],
   "source": [
    "z=[1]*3 # create list all element will be 1 .\n",
    "print(z)\n",
    "y=[5]*4 # create list all element will be 5 .\n",
    "print(y)"
   ]
  },
  {
   "cell_type": "code",
   "execution_count": 140,
   "id": "a20970e0",
   "metadata": {},
   "outputs": [
    {
     "data": {
      "text/plain": [
       "['a', 'b', 'd', 'o']"
      ]
     },
     "execution_count": 140,
     "metadata": {},
     "output_type": "execute_result"
    }
   ],
   "source": [
    "list(\"abdo\")"
   ]
  },
  {
   "cell_type": "code",
   "execution_count": 152,
   "id": "eba36a0d",
   "metadata": {},
   "outputs": [
    {
     "data": {
      "text/plain": [
       "[36, 1, 2, 5, 1, 16, 22, 33]"
      ]
     },
     "execution_count": 152,
     "metadata": {},
     "output_type": "execute_result"
    }
   ],
   "source": [
    "x"
   ]
  },
  {
   "cell_type": "code",
   "execution_count": 158,
   "id": "d7e7a23e",
   "metadata": {},
   "outputs": [
    {
     "name": "stdout",
     "output_type": "stream",
     "text": [
      "36\n",
      "[1, 2, 5, 1, 16, 22, 33]\n"
     ]
    }
   ],
   "source": [
    "t , *others=x\n",
    "print(t) # print first element  \n",
    "print(others)"
   ]
  },
  {
   "cell_type": "code",
   "execution_count": 159,
   "id": "fe69ce8d",
   "metadata": {},
   "outputs": [
    {
     "data": {
      "text/plain": [
       "[36, 1, 2, 5, 1, 16, 22, 33]"
      ]
     },
     "execution_count": 159,
     "metadata": {},
     "output_type": "execute_result"
    }
   ],
   "source": [
    "x"
   ]
  },
  {
   "cell_type": "code",
   "execution_count": 160,
   "id": "9d11057c",
   "metadata": {},
   "outputs": [
    {
     "data": {
      "text/plain": [
       "8"
      ]
     },
     "execution_count": 160,
     "metadata": {},
     "output_type": "execute_result"
    }
   ],
   "source": [
    "len(x)"
   ]
  },
  {
   "cell_type": "code",
   "execution_count": 161,
   "id": "95ff11b4",
   "metadata": {},
   "outputs": [
    {
     "name": "stdout",
     "output_type": "stream",
     "text": [
      "1\n",
      "36\n",
      "116\n",
      "14.5\n"
     ]
    }
   ],
   "source": [
    "print(min(x))\n",
    "print(max(x))\n",
    "print(sum(x))\n",
    "print(sum(x)/len(x))"
   ]
  },
  {
   "cell_type": "code",
   "execution_count": 150,
   "id": "a592c56e",
   "metadata": {},
   "outputs": [],
   "source": [
    "                                           # METHODS OF LISTS"
   ]
  },
  {
   "cell_type": "code",
   "execution_count": 187,
   "id": "4f55734f",
   "metadata": {},
   "outputs": [],
   "source": [
    "f=[55,6,6,1]"
   ]
  },
  {
   "cell_type": "code",
   "execution_count": 188,
   "id": "a722625e",
   "metadata": {},
   "outputs": [],
   "source": [
    "z=[1,2,'dd',66]"
   ]
  },
  {
   "cell_type": "code",
   "execution_count": 189,
   "id": "3b970b84",
   "metadata": {},
   "outputs": [
    {
     "name": "stdout",
     "output_type": "stream",
     "text": [
      "[1, 2, 'dd', 66, 44]\n"
     ]
    }
   ],
   "source": [
    "z.append(44) # -->> add 44 at last\n",
    "print(z)"
   ]
  },
  {
   "cell_type": "code",
   "execution_count": 190,
   "id": "c79fcb4d",
   "metadata": {},
   "outputs": [
    {
     "name": "stdout",
     "output_type": "stream",
     "text": [
      "[55, 6, 6, 1, 1, 2, 'dd', 66, 44]\n"
     ]
    }
   ],
   "source": [
    "f.extend(z) # add list z to f\n",
    "print(f)"
   ]
  },
  {
   "cell_type": "code",
   "execution_count": 191,
   "id": "64879a87",
   "metadata": {},
   "outputs": [
    {
     "name": "stdout",
     "output_type": "stream",
     "text": [
      "['abdo', 55, 6, 6, 1, 1, 2, 'dd', 66, 44]\n"
     ]
    }
   ],
   "source": [
    "f.insert(0,'abdo')\n",
    "print(f)"
   ]
  },
  {
   "cell_type": "code",
   "execution_count": 192,
   "id": "992661c7",
   "metadata": {},
   "outputs": [],
   "source": [
    "f.remove(6)# remove ==== pass the elements not index \n",
    "f.remove('dd')"
   ]
  },
  {
   "cell_type": "code",
   "execution_count": 193,
   "id": "080b549b",
   "metadata": {},
   "outputs": [
    {
     "name": "stdout",
     "output_type": "stream",
     "text": [
      "['abdo', 55, 6, 1, 1, 2, 66, 44]\n"
     ]
    }
   ],
   "source": [
    "print(f)"
   ]
  },
  {
   "cell_type": "code",
   "execution_count": 194,
   "id": "33abbb4b",
   "metadata": {},
   "outputs": [],
   "source": [
    "del(f[0])"
   ]
  },
  {
   "cell_type": "code",
   "execution_count": 195,
   "id": "bdc8fcbb",
   "metadata": {},
   "outputs": [
    {
     "data": {
      "text/plain": [
       "[55, 6, 1, 1, 2, 66, 44]"
      ]
     },
     "execution_count": 195,
     "metadata": {},
     "output_type": "execute_result"
    }
   ],
   "source": [
    "f"
   ]
  },
  {
   "cell_type": "code",
   "execution_count": 196,
   "id": "3eb5b386",
   "metadata": {},
   "outputs": [],
   "source": [
    "c=['s','v','f']\n",
    "c.sort() # sort----->>> arrange the elements"
   ]
  },
  {
   "cell_type": "code",
   "execution_count": 197,
   "id": "66d1599e",
   "metadata": {},
   "outputs": [
    {
     "name": "stdout",
     "output_type": "stream",
     "text": [
      "['f', 's', 'v']\n"
     ]
    }
   ],
   "source": [
    "print(c)"
   ]
  },
  {
   "cell_type": "code",
   "execution_count": 198,
   "id": "acce5427",
   "metadata": {},
   "outputs": [],
   "source": [
    "d=[15,36,2]\n",
    "d.sort()"
   ]
  },
  {
   "cell_type": "code",
   "execution_count": 199,
   "id": "83f40566",
   "metadata": {},
   "outputs": [
    {
     "name": "stdout",
     "output_type": "stream",
     "text": [
      "[2, 15, 36]\n"
     ]
    }
   ],
   "source": [
    "print(d)"
   ]
  },
  {
   "cell_type": "code",
   "execution_count": 200,
   "id": "7262b312",
   "metadata": {},
   "outputs": [],
   "source": [
    "                                          # GOOOOOOOOD LUCK\n",
    "                                   # Created by Abdulrahman Mohammed                 "
   ]
  }
 ],
 "metadata": {
  "kernelspec": {
   "display_name": "Python 3 (ipykernel)",
   "language": "python",
   "name": "python3"
  },
  "language_info": {
   "codemirror_mode": {
    "name": "ipython",
    "version": 3
   },
   "file_extension": ".py",
   "mimetype": "text/x-python",
   "name": "python",
   "nbconvert_exporter": "python",
   "pygments_lexer": "ipython3",
   "version": "3.9.13"
  }
 },
 "nbformat": 4,
 "nbformat_minor": 5
}
