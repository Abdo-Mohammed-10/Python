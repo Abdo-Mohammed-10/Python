{
 "cells": [
  {
   "cell_type": "markdown",
   "id": "0f25711c",
   "metadata": {},
   "source": [
    "# ______________________________  loops    __________________________________"
   ]
  },
  {
   "cell_type": "markdown",
   "id": "208ab935",
   "metadata": {},
   "source": [
    "#                                          while_loop"
   ]
  },
  {
   "cell_type": "code",
   "execution_count": 1,
   "id": "d7047c7a",
   "metadata": {
    "scrolled": true
   },
   "outputs": [
    {
     "name": "stdout",
     "output_type": "stream",
     "text": [
      "entre nmber 15\n",
      "entre nmber 12\n",
      "even\n"
     ]
    }
   ],
   "source": [
    "val=int(input(\"entre nmber \"))\n",
    "while val%2 !=0 :\n",
    "    val=int(input(\"entre nmber \"))\n",
    "else:\n",
    "        print(\"even\")"
   ]
  },
  {
   "cell_type": "markdown",
   "id": "ad845c06",
   "metadata": {},
   "source": [
    "#                                 for loop"
   ]
  },
  {
   "cell_type": "code",
   "execution_count": 14,
   "id": "c7ecbd6e",
   "metadata": {},
   "outputs": [
    {
     "name": "stdout",
     "output_type": "stream",
     "text": [
      "1\n",
      "3\n",
      "6\n",
      "ss\n"
     ]
    }
   ],
   "source": [
    "x=[1,3,6,\"ss\"]\n",
    "for i in x: # (i in x ) : mean counter count index and print his values\n",
    "    print(i)"
   ]
  },
  {
   "cell_type": "code",
   "execution_count": 15,
   "id": "9b3d8454",
   "metadata": {},
   "outputs": [
    {
     "name": "stdout",
     "output_type": "stream",
     "text": [
      "s\n",
      "a\n",
      "m\n"
     ]
    }
   ],
   "source": [
    "x=\"sam\"\n",
    "for i in x :\n",
    "    print(i)"
   ]
  },
  {
   "cell_type": "markdown",
   "id": "4f1e772e",
   "metadata": {},
   "source": [
    "#                               Nested_loop"
   ]
  },
  {
   "cell_type": "code",
   "execution_count": 17,
   "id": "e4f2ea2e",
   "metadata": {},
   "outputs": [
    {
     "name": "stdout",
     "output_type": "stream",
     "text": [
      "[1, 2, 3]\n",
      "[3, 6, 6]\n"
     ]
    }
   ],
   "source": [
    "x=[[1,2,3],[3,6,6]]\n",
    "for i in x :\n",
    "    print(i)"
   ]
  },
  {
   "cell_type": "code",
   "execution_count": 18,
   "id": "b292ad3b",
   "metadata": {},
   "outputs": [
    {
     "name": "stdout",
     "output_type": "stream",
     "text": [
      "1\n",
      "2\n",
      "3\n",
      "3\n",
      "6\n",
      "6\n"
     ]
    }
   ],
   "source": [
    "x=[[1,2,3],[3,6,6]]\n",
    "for i in x :\n",
    "    for j in i:\n",
    "        print(j)"
   ]
  },
  {
   "cell_type": "code",
   "execution_count": 19,
   "id": "7aff0c11",
   "metadata": {},
   "outputs": [
    {
     "name": "stdout",
     "output_type": "stream",
     "text": [
      "1\n",
      "2\n",
      "3\n",
      "3\n",
      "6\n",
      "6\n"
     ]
    }
   ],
   "source": [
    "x=[[1,2,3],[3,6,6]]\n",
    "for i in x :\n",
    "    for j in i:\n",
    "        print(j,end=\"\")\n",
    "        print()"
   ]
  },
  {
   "cell_type": "markdown",
   "id": "1ef28365",
   "metadata": {},
   "source": [
    "#                 control of loop (BREAK & CONTINUE)\n"
   ]
  },
  {
   "cell_type": "markdown",
   "id": "3b2c6714",
   "metadata": {},
   "source": [
    "# break"
   ]
  },
  {
   "cell_type": "code",
   "execution_count": 10,
   "id": "b04cdcb8",
   "metadata": {},
   "outputs": [
    {
     "name": "stdout",
     "output_type": "stream",
     "text": [
      "a\n",
      "b\n",
      "d\n"
     ]
    }
   ],
   "source": [
    "x=\"abdo mohammed\"\n",
    "for i in x :\n",
    "    print(i)\n",
    "    if i==\"d\":\n",
    "         break\n",
    "         print(i,end=\"\")"
   ]
  },
  {
   "cell_type": "markdown",
   "id": "84668f5c",
   "metadata": {},
   "source": [
    "#                          continous"
   ]
  },
  {
   "cell_type": "code",
   "execution_count": 13,
   "id": "49191150",
   "metadata": {},
   "outputs": [
    {
     "name": "stdout",
     "output_type": "stream",
     "text": [
      "1\n",
      "5\n",
      "3\n",
      "not\n"
     ]
    }
   ],
   "source": [
    "for i in [1,23,5,3] :\n",
    " if i>10:\n",
    "     continue\n",
    " print(i)\n",
    "else:\n",
    "    \n",
    "    print(\"not\")"
   ]
  },
  {
   "cell_type": "markdown",
   "id": "080eda71",
   "metadata": {},
   "source": [
    "# GOOOOOOOOD LUCK\n",
    "Abdulrahman Mohammed"
   ]
  }
 ],
 "metadata": {
  "kernelspec": {
   "display_name": "Python 3 (ipykernel)",
   "language": "python",
   "name": "python3"
  },
  "language_info": {
   "codemirror_mode": {
    "name": "ipython",
    "version": 3
   },
   "file_extension": ".py",
   "mimetype": "text/x-python",
   "name": "python",
   "nbconvert_exporter": "python",
   "pygments_lexer": "ipython3",
   "version": "3.9.13"
  }
 },
 "nbformat": 4,
 "nbformat_minor": 5
}
