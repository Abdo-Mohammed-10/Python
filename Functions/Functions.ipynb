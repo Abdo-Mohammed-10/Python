{
 "cells": [
  {
   "cell_type": "markdown",
   "id": "5754b872",
   "metadata": {},
   "source": [
    "# FUNCTION"
   ]
  },
  {
   "cell_type": "code",
   "execution_count": 1,
   "id": "f9a29790",
   "metadata": {},
   "outputs": [
    {
     "name": "stdout",
     "output_type": "stream",
     "text": [
      "cool\n"
     ]
    }
   ],
   "source": [
    "def welcome():\n",
    "    print(\"cool\")\n",
    "welcome()"
   ]
  },
  {
   "cell_type": "code",
   "execution_count": 2,
   "id": "4977f761",
   "metadata": {},
   "outputs": [],
   "source": [
    "def add(a,b):\n",
    "    total=a+b\n",
    "    print(total)\n",
    "    "
   ]
  },
  {
   "cell_type": "code",
   "execution_count": 3,
   "id": "6bbc3516",
   "metadata": {},
   "outputs": [
    {
     "name": "stdout",
     "output_type": "stream",
     "text": [
      "81\n"
     ]
    }
   ],
   "source": [
    "add(15,66)"
   ]
  },
  {
   "cell_type": "code",
   "execution_count": 11,
   "id": "dd2ad533",
   "metadata": {},
   "outputs": [
    {
     "name": "stdout",
     "output_type": "stream",
     "text": [
      "10\n"
     ]
    }
   ],
   "source": [
    "def add(a=0,b=0):\n",
    "    total=a+b\n",
    "    print(total)\n",
    "add(10)"
   ]
  },
  {
   "cell_type": "code",
   "execution_count": 11,
   "id": "3d2b4665",
   "metadata": {},
   "outputs": [],
   "source": [
    "def add (*a):\n",
    "    total=0                    #note vr\n",
    "    for i in a :\n",
    "        total =total+i\n",
    "        print (\"the sum\", total)"
   ]
  },
  {
   "cell_type": "code",
   "execution_count": 12,
   "id": "aa888e54",
   "metadata": {},
   "outputs": [
    {
     "name": "stdout",
     "output_type": "stream",
     "text": [
      "the sum 166\n"
     ]
    }
   ],
   "source": [
    "add(166)"
   ]
  },
  {
   "cell_type": "code",
   "execution_count": 14,
   "id": "354c4267",
   "metadata": {},
   "outputs": [
    {
     "name": "stdout",
     "output_type": "stream",
     "text": [
      "the sum 1\n",
      "the sum 3\n",
      "the sum 6\n",
      "the sum 10\n"
     ]
    }
   ],
   "source": [
    "add(1,2,3,4)"
   ]
  },
  {
   "cell_type": "markdown",
   "id": "922419dc",
   "metadata": {},
   "source": [
    "# Good luck\n",
    "Abdulrahman Mohammed"
   ]
  }
 ],
 "metadata": {
  "kernelspec": {
   "display_name": "Python 3 (ipykernel)",
   "language": "python",
   "name": "python3"
  },
  "language_info": {
   "codemirror_mode": {
    "name": "ipython",
    "version": 3
   },
   "file_extension": ".py",
   "mimetype": "text/x-python",
   "name": "python",
   "nbconvert_exporter": "python",
   "pygments_lexer": "ipython3",
   "version": "3.9.13"
  }
 },
 "nbformat": 4,
 "nbformat_minor": 5
}
