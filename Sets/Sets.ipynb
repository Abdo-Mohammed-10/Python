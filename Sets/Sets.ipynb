{
 "cells": [
  {
   "cell_type": "markdown",
   "id": "a18cd851",
   "metadata": {},
   "source": [
    "#                                        SETS"
   ]
  },
  {
   "cell_type": "code",
   "execution_count": 5,
   "id": "c079f095",
   "metadata": {},
   "outputs": [
    {
     "name": "stdout",
     "output_type": "stream",
     "text": [
      "<class 'list'>\n",
      "<class 'set'>\n"
     ]
    }
   ],
   "source": [
    "x=(['2','3','66'])\n",
    "s=set([1,2,3,4])\n",
    "print(type(x))\n",
    "print(type(s))    # NOTE METHODE X =! METHODE S "
   ]
  },
  {
   "cell_type": "code",
   "execution_count": 10,
   "id": "55c3eea1",
   "metadata": {},
   "outputs": [
    {
     "name": "stdout",
     "output_type": "stream",
     "text": [
      "['2', '3', '66']\n",
      "{1, 2, 3, 4, 33}\n"
     ]
    }
   ],
   "source": [
    "s.add(33)\n",
    "# x.add(15) not true\n",
    "print(x)\n",
    "print(s)"
   ]
  },
  {
   "cell_type": "code",
   "execution_count": 13,
   "id": "fff17ba8",
   "metadata": {},
   "outputs": [
    {
     "name": "stdout",
     "output_type": "stream",
     "text": [
      "frozenset({1, 4, 5, 6})\n"
     ]
    }
   ],
   "source": [
    "f=frozenset([1,5,6,4]) #note frozenset U cannot add any elements\n",
    "print(f)"
   ]
  },
  {
   "cell_type": "code",
   "execution_count": 18,
   "id": "d53f6692",
   "metadata": {},
   "outputs": [
    {
     "name": "stdout",
     "output_type": "stream",
     "text": [
      "{'x', 'd', 'a', 'v'}\n",
      "{'x'}\n"
     ]
    }
   ],
   "source": [
    "x=set(['d','a','x'])\n",
    "y=set(['d','a','v'])\n",
    "print(x.union(y))\n",
    "print(x.difference(y))"
   ]
  },
  {
   "cell_type": "markdown",
   "id": "4c1f40ea",
   "metadata": {},
   "source": [
    "# GOOD LUCK\n",
    "created by Abdulrahman Mohammed"
   ]
  }
 ],
 "metadata": {
  "kernelspec": {
   "display_name": "Python 3 (ipykernel)",
   "language": "python",
   "name": "python3"
  },
  "language_info": {
   "codemirror_mode": {
    "name": "ipython",
    "version": 3
   },
   "file_extension": ".py",
   "mimetype": "text/x-python",
   "name": "python",
   "nbconvert_exporter": "python",
   "pygments_lexer": "ipython3",
   "version": "3.9.13"
  }
 },
 "nbformat": 4,
 "nbformat_minor": 5
}
