{
 "cells": [
  {
   "cell_type": "markdown",
   "id": "1a9dfa6f",
   "metadata": {},
   "source": [
    "# Panda"
   ]
  },
  {
   "cell_type": "code",
   "execution_count": 7,
   "id": "28372cd4",
   "metadata": {},
   "outputs": [],
   "source": [
    "import pandas as pd\n",
    "import numpy as np"
   ]
  },
  {
   "cell_type": "code",
   "execution_count": 8,
   "id": "ea0839b4",
   "metadata": {},
   "outputs": [
    {
     "name": "stdout",
     "output_type": "stream",
     "text": [
      "          A         B         C         D\n",
      "0 -0.365929 -0.028122  0.904598  0.507648\n",
      "1 -1.096984  0.552544 -0.853606 -0.293664\n",
      "2  0.083183  1.136755 -0.755850  0.899578\n",
      "3 -1.425338  1.318410  1.512628 -1.572088\n",
      "4  1.077693  0.753280 -0.214775 -1.171446\n",
      "5 -0.934488  0.056169  1.537383  0.143457\n"
     ]
    }
   ],
   "source": [
    "df=pd.DataFrame(np.random.randn(6,4),index=list(range(6)),columns=list(\"ABCD\"))\n",
    "print(df)"
   ]
  },
  {
   "cell_type": "code",
   "execution_count": 9,
   "id": "e7cfda4a",
   "metadata": {},
   "outputs": [
    {
     "data": {
      "text/html": [
       "<div>\n",
       "<style scoped>\n",
       "    .dataframe tbody tr th:only-of-type {\n",
       "        vertical-align: middle;\n",
       "    }\n",
       "\n",
       "    .dataframe tbody tr th {\n",
       "        vertical-align: top;\n",
       "    }\n",
       "\n",
       "    .dataframe thead th {\n",
       "        text-align: right;\n",
       "    }\n",
       "</style>\n",
       "<table border=\"1\" class=\"dataframe\">\n",
       "  <thead>\n",
       "    <tr style=\"text-align: right;\">\n",
       "      <th></th>\n",
       "      <th>A</th>\n",
       "      <th>B</th>\n",
       "      <th>C</th>\n",
       "      <th>D</th>\n",
       "    </tr>\n",
       "  </thead>\n",
       "  <tbody>\n",
       "    <tr>\n",
       "      <th>count</th>\n",
       "      <td>6.000000</td>\n",
       "      <td>6.000000</td>\n",
       "      <td>6.000000</td>\n",
       "      <td>6.000000</td>\n",
       "    </tr>\n",
       "    <tr>\n",
       "      <th>mean</th>\n",
       "      <td>-0.443644</td>\n",
       "      <td>0.631506</td>\n",
       "      <td>0.355063</td>\n",
       "      <td>-0.247752</td>\n",
       "    </tr>\n",
       "    <tr>\n",
       "      <th>std</th>\n",
       "      <td>0.919734</td>\n",
       "      <td>0.550327</td>\n",
       "      <td>1.100868</td>\n",
       "      <td>0.964284</td>\n",
       "    </tr>\n",
       "    <tr>\n",
       "      <th>min</th>\n",
       "      <td>-1.425338</td>\n",
       "      <td>-0.028122</td>\n",
       "      <td>-0.853606</td>\n",
       "      <td>-1.572088</td>\n",
       "    </tr>\n",
       "    <tr>\n",
       "      <th>25%</th>\n",
       "      <td>-1.056360</td>\n",
       "      <td>0.180263</td>\n",
       "      <td>-0.620582</td>\n",
       "      <td>-0.952000</td>\n",
       "    </tr>\n",
       "    <tr>\n",
       "      <th>50%</th>\n",
       "      <td>-0.650209</td>\n",
       "      <td>0.652912</td>\n",
       "      <td>0.344912</td>\n",
       "      <td>-0.075104</td>\n",
       "    </tr>\n",
       "    <tr>\n",
       "      <th>75%</th>\n",
       "      <td>-0.029095</td>\n",
       "      <td>1.040886</td>\n",
       "      <td>1.360620</td>\n",
       "      <td>0.416600</td>\n",
       "    </tr>\n",
       "    <tr>\n",
       "      <th>max</th>\n",
       "      <td>1.077693</td>\n",
       "      <td>1.318410</td>\n",
       "      <td>1.537383</td>\n",
       "      <td>0.899578</td>\n",
       "    </tr>\n",
       "  </tbody>\n",
       "</table>\n",
       "</div>"
      ],
      "text/plain": [
       "              A         B         C         D\n",
       "count  6.000000  6.000000  6.000000  6.000000\n",
       "mean  -0.443644  0.631506  0.355063 -0.247752\n",
       "std    0.919734  0.550327  1.100868  0.964284\n",
       "min   -1.425338 -0.028122 -0.853606 -1.572088\n",
       "25%   -1.056360  0.180263 -0.620582 -0.952000\n",
       "50%   -0.650209  0.652912  0.344912 -0.075104\n",
       "75%   -0.029095  1.040886  1.360620  0.416600\n",
       "max    1.077693  1.318410  1.537383  0.899578"
      ]
     },
     "execution_count": 9,
     "metadata": {},
     "output_type": "execute_result"
    }
   ],
   "source": [
    "df.describe()"
   ]
  },
  {
   "cell_type": "markdown",
   "id": "6ffdb85a",
   "metadata": {},
   "source": [
    "# TENSORFLOW "
   ]
  },
  {
   "cell_type": "markdown",
   "id": "e11254df",
   "metadata": {},
   "source": [
    "# NUMPY"
   ]
  },
  {
   "cell_type": "code",
   "execution_count": 10,
   "id": "e257209a",
   "metadata": {},
   "outputs": [],
   "source": [
    "import numpy as np"
   ]
  },
  {
   "cell_type": "code",
   "execution_count": 12,
   "id": "da2e5491",
   "metadata": {},
   "outputs": [
    {
     "name": "stdout",
     "output_type": "stream",
     "text": [
      "<class 'numpy.ndarray'>\n"
     ]
    }
   ],
   "source": [
    "d=np.array([1,2,3])\n",
    "print(type(d))"
   ]
  },
  {
   "cell_type": "code",
   "execution_count": 14,
   "id": "7114ad57",
   "metadata": {},
   "outputs": [
    {
     "name": "stdout",
     "output_type": "stream",
     "text": [
      "(3,)\n"
     ]
    }
   ],
   "source": [
    "print(d.shape)"
   ]
  },
  {
   "cell_type": "code",
   "execution_count": 17,
   "id": "6938d5c9",
   "metadata": {},
   "outputs": [
    {
     "data": {
      "text/plain": [
       "array([[ 0,  1,  2,  3],\n",
       "       [ 4,  5,  6,  7],\n",
       "       [ 8,  9, 10, 11]])"
      ]
     },
     "execution_count": 17,
     "metadata": {},
     "output_type": "execute_result"
    }
   ],
   "source": [
    "b=np.arange(12).reshape(3,4)\n",
    "b"
   ]
  },
  {
   "cell_type": "markdown",
   "id": "60bddfb1",
   "metadata": {},
   "source": [
    "# Scipy"
   ]
  },
  {
   "cell_type": "code",
   "execution_count": 18,
   "id": "a43e75c0",
   "metadata": {},
   "outputs": [],
   "source": [
    "from scipy import constants"
   ]
  },
  {
   "cell_type": "code",
   "execution_count": 19,
   "id": "5c82924b",
   "metadata": {},
   "outputs": [
    {
     "name": "stdout",
     "output_type": "stream",
     "text": [
      "299792458.0\n",
      "6.62607015e-34\n",
      "6.02214076e+23\n"
     ]
    }
   ],
   "source": [
    "print(constants.c)      #SPEED OF LIGHT\n",
    "print(constants.h)      #PLANK'S CONSTANTS\n",
    "print(constants.N_A)    #Avogadro's number"
   ]
  },
  {
   "cell_type": "markdown",
   "id": "07be408f",
   "metadata": {},
   "source": [
    "# MATPLOTLIB"
   ]
  },
  {
   "cell_type": "code",
   "execution_count": 20,
   "id": "282cd984",
   "metadata": {},
   "outputs": [],
   "source": [
    "import numpy as np\n",
    "import matplotlib.pyplot as plt\n",
    "%matplotlib inline"
   ]
  },
  {
   "cell_type": "code",
   "execution_count": 30,
   "id": "f0a9cffd",
   "metadata": {},
   "outputs": [],
   "source": [
    "n=60\n",
    "x=np.random.rand(n)\n",
    "y=np.random.rand(n)\n",
    "colors=np.random.rand(n)"
   ]
  },
  {
   "cell_type": "code",
   "execution_count": 31,
   "id": "e6e13759",
   "metadata": {},
   "outputs": [],
   "source": [
    "area=(30*np.random.rand(n))**2"
   ]
  },
  {
   "cell_type": "code",
   "execution_count": 32,
   "id": "38b8204a",
   "metadata": {},
   "outputs": [
    {
     "data": {
      "image/png": "[encoded data removed]",
      "text/plain": [
       "<Figure size 640x480 with 1 Axes>"
      ]
     },
     "metadata": {},
     "output_type": "display_data"
    }
   ],
   "source": [
    "\n",
    "plt.scatter(x,y, s=area, c=colors, alpha=0.4)\n",
    "plt.show()"
   ]
  },
  {
   "cell_type": "code",
   "execution_count": 34,
   "id": "001e8ac8",
   "metadata": {},
   "outputs": [],
   "source": [
    "from matplotlib import style\n",
    "style.use(\"ggplot\")\n",
    "x=[2,3,5]\n",
    "y=[6,8,9]\n",
    "\n",
    "x2=[1,2,3]\n",
    "y2=[9,9,6]"
   ]
  },
  {
   "cell_type": "code",
   "execution_count": 38,
   "id": "4de411a7",
   "metadata": {},
   "outputs": [
    {
     "data": {
      "image/png": "[encoded data removed]",
      "text/plain": [
       "<Figure size 640x480 with 1 Axes>"
      ]
     },
     "metadata": {},
     "output_type": "display_data"
    }
   ],
   "source": [
    "plt.bar(x,y,color='r',align='center')\n",
    "plt.bar(x2,y2,color='b',align='center')\n",
    "plt.title(\"informations\")\n",
    "plt.xlabel(\"x axis\")\n",
    "plt.ylabel(\"y axis\")\n",
    "plt.show()"
   ]
  },
  {
   "cell_type": "markdown",
   "id": "d204e4cd",
   "metadata": {},
   "source": [
    "# created by \n",
    "Abdulrahman Mohammed\n"
   ]
  }
 ],
 "metadata": {
  "kernelspec": {
   "display_name": "Python 3 (ipykernel)",
   "language": "python",
   "name": "python3"
  },
  "language_info": {
   "codemirror_mode": {
    "name": "ipython",
    "version": 3
   },
   "file_extension": ".py",
   "mimetype": "text/x-python",
   "name": "python",
   "nbconvert_exporter": "python",
   "pygments_lexer": "ipython3",
   "version": "3.9.13"
  }
 },
 "nbformat": 4,
 "nbformat_minor": 5
}
