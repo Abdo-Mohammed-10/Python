{
 "cells": [
  {
   "cell_type": "markdown",
   "id": "8473a7ef",
   "metadata": {},
   "source": [
    "#                         STRINGS "
   ]
  },
  {
   "cell_type": "code",
   "execution_count": 6,
   "id": "7acc1bc8",
   "metadata": {},
   "outputs": [
    {
     "name": "stdout",
     "output_type": "stream",
     "text": [
      "م\n",
      "ح\n",
      "م\n",
      "د\n",
      " \n",
      "ص\n",
      "ل\n",
      "ى\n",
      " \n",
      "ا\n",
      "ل\n",
      "ل\n",
      "ه\n",
      " \n",
      "ع\n",
      "ل\n",
      "ي\n",
      "ه\n",
      " \n",
      "و\n",
      "س\n",
      "ل\n",
      "م\n"
     ]
    }
   ],
   "source": [
    "n=\"محمد صلى الله عليه وسلم\"\n",
    "for i in n :\n",
    "    print(i)\n",
    "    "
   ]
  },
  {
   "cell_type": "code",
   "execution_count": 7,
   "id": "b765c44c",
   "metadata": {},
   "outputs": [
    {
     "name": "stdout",
     "output_type": "stream",
     "text": [
      "<class 'str'>\n"
     ]
    }
   ],
   "source": [
    "print(type(n))"
   ]
  },
  {
   "cell_type": "code",
   "execution_count": 9,
   "id": "a6adcbd9",
   "metadata": {},
   "outputs": [
    {
     "name": "stdout",
     "output_type": "stream",
     "text": [
      "abdo\n",
      "mohammed \n"
     ]
    },
    {
     "data": {
      "text/plain": [
       "14"
      ]
     },
     "execution_count": 9,
     "metadata": {},
     "output_type": "execute_result"
    }
   ],
   "source": [
    "m='''abdo\n",
    "mohammed '''  #---->> u can use three cotes instead of double cotes\n",
    "print(m)\n",
    "len(m)"
   ]
  },
  {
   "cell_type": "code",
   "execution_count": 11,
   "id": "4fe90b42",
   "metadata": {},
   "outputs": [
    {
     "name": "stdout",
     "output_type": "stream",
     "text": [
      "abdo\n",
      "mo\n"
     ]
    }
   ],
   "source": [
    "print(m[:7])"
   ]
  },
  {
   "cell_type": "code",
   "execution_count": 12,
   "id": "e8222d94",
   "metadata": {
    "scrolled": true
   },
   "outputs": [
    {
     "name": "stdout",
     "output_type": "stream",
     "text": [
      "do\n",
      "mo\n"
     ]
    }
   ],
   "source": [
    "print(m[2:7])"
   ]
  },
  {
   "cell_type": "code",
   "execution_count": 13,
   "id": "f6b51430",
   "metadata": {
    "scrolled": true
   },
   "outputs": [
    {
     "name": "stdout",
     "output_type": "stream",
     "text": [
      "hammed \n"
     ]
    }
   ],
   "source": [
    "print(m[7:])"
   ]
  },
  {
   "cell_type": "code",
   "execution_count": 54,
   "id": "b727de9c",
   "metadata": {},
   "outputs": [
    {
     "name": "stdout",
     "output_type": "stream",
     "text": [
      "ABDO MOHAMMED\n",
      "abdo mohammed\n"
     ]
    }
   ],
   "source": [
    "n=\"abdo mohammed\"\n",
    "print(n.upper())\n",
    "print(n.lower())"
   ]
  },
  {
   "cell_type": "code",
   "execution_count": 55,
   "id": "111b9f70",
   "metadata": {},
   "outputs": [
    {
     "name": "stdout",
     "output_type": "stream",
     "text": [
      "1\n"
     ]
    }
   ],
   "source": [
    "print(n.find(\"b\")) # is equal to print(n.index(\"b\"))"
   ]
  },
  {
   "cell_type": "code",
   "execution_count": 56,
   "id": "12a64500",
   "metadata": {},
   "outputs": [
    {
     "name": "stdout",
     "output_type": "stream",
     "text": [
      "1\n"
     ]
    }
   ],
   "source": [
    "print(n.index(\"b\"))"
   ]
  },
  {
   "cell_type": "code",
   "execution_count": 57,
   "id": "29fc627b",
   "metadata": {
    "scrolled": true
   },
   "outputs": [
    {
     "name": "stdout",
     "output_type": "stream",
     "text": [
      "['abdo', 'mohammed']\n"
     ]
    }
   ],
   "source": [
    "print(n.split()) # or print(n.split(\" \"))"
   ]
  },
  {
   "cell_type": "code",
   "execution_count": 60,
   "id": "adb28546",
   "metadata": {},
   "outputs": [
    {
     "name": "stdout",
     "output_type": "stream",
     "text": [
      "['abdo', 'mohammed']\n"
     ]
    }
   ],
   "source": [
    "print(n.split(\" \"))"
   ]
  },
  {
   "cell_type": "code",
   "execution_count": 69,
   "id": "eca65f27",
   "metadata": {},
   "outputs": [
    {
     "data": {
      "text/plain": [
       "('abdo mohamm', 'e', 'd')"
      ]
     },
     "execution_count": 69,
     "metadata": {},
     "output_type": "execute_result"
    }
   ],
   "source": [
    "n.rpartition(\"e\") #--->> 😂 وعزة جلالة الله الدالة دي ماعارف اشرحها بس فاهمها"
   ]
  },
  {
   "cell_type": "code",
   "execution_count": 42,
   "id": "4c417cec",
   "metadata": {
    "scrolled": true
   },
   "outputs": [
    {
     "name": "stdout",
     "output_type": "stream",
     "text": [
      "mohammed mohammed\n"
     ]
    }
   ],
   "source": [
    "print(n.replace(\"abdo\",\"mohammed\"))  # -->> n=\"abdo mohammed\"\n",
    "           #        1       2        \n",
    "    \n",
    "# replace mohammed instead of abdo "
   ]
  },
  {
   "cell_type": "code",
   "execution_count": 72,
   "id": "ed92d9fb",
   "metadata": {},
   "outputs": [
    {
     "name": "stdout",
     "output_type": "stream",
     "text": [
      "abdo mohammed A\n"
     ]
    }
   ],
   "source": [
    "x=\"abdo\"\n",
    "y=\"mohammed\"\n",
    "z=x+\" \"+y+\" A\"\n",
    "print(z)"
   ]
  },
  {
   "cell_type": "code",
   "execution_count": 21,
   "id": "f0dd1e0c",
   "metadata": {},
   "outputs": [],
   "source": [
    "p=\"{},{}????\".format(x,y)"
   ]
  },
  {
   "cell_type": "code",
   "execution_count": 22,
   "id": "0cbbe418",
   "metadata": {},
   "outputs": [
    {
     "name": "stdout",
     "output_type": "stream",
     "text": [
      "abdo,mohammed????\n"
     ]
    }
   ],
   "source": [
    "print(p)"
   ]
  },
  {
   "cell_type": "markdown",
   "id": "14bc483c",
   "metadata": {},
   "source": [
    "#                          GOOOOOD LUCK\n",
    "created by Abdulrahman mohammed"
   ]
  }
 ],
 "metadata": {
  "kernelspec": {
   "display_name": "Python 3 (ipykernel)",
   "language": "python",
   "name": "python3"
  },
  "language_info": {
   "codemirror_mode": {
    "name": "ipython",
    "version": 3
   },
   "file_extension": ".py",
   "mimetype": "text/x-python",
   "name": "python",
   "nbconvert_exporter": "python",
   "pygments_lexer": "ipython3",
   "version": "3.9.13"
  }
 },
 "nbformat": 4,
 "nbformat_minor": 5
}
