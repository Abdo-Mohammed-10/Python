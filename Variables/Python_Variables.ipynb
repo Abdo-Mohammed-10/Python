{
 "cells": [
  {
   "cell_type": "code",
   "execution_count": 1,
   "id": "635dc759",
   "metadata": {},
   "outputs": [],
   "source": [
    "                                          #types of variables"
   ]
  },
  {
   "cell_type": "code",
   "execution_count": 9,
   "id": "95e05978",
   "metadata": {},
   "outputs": [
    {
     "name": "stdout",
     "output_type": "stream",
     "text": [
      "Abdulrahman Mohammed\n",
      "<class 'str'>\n"
     ]
    }
   ],
   "source": [
    "hello=\"Abdulrahman Mohammed\"\n",
    "print (hello)\n",
    "print(type(hello))#---->>string"
   ]
  },
  {
   "cell_type": "code",
   "execution_count": 6,
   "id": "a115b2d0",
   "metadata": {},
   "outputs": [
    {
     "name": "stdout",
     "output_type": "stream",
     "text": [
      " entre your name abdo\n",
      "hello abdo\n"
     ]
    }
   ],
   "source": [
    "name=input(\" entre your name \")\n",
    "print (\"hello\", name)"
   ]
  },
  {
   "cell_type": "code",
   "execution_count": 15,
   "id": "a0331bbb",
   "metadata": {},
   "outputs": [
    {
     "name": "stdout",
     "output_type": "stream",
     "text": [
      "<class 'int'>\n"
     ]
    },
    {
     "data": {
      "text/plain": [
       "int"
      ]
     },
     "execution_count": 15,
     "metadata": {},
     "output_type": "execute_result"
    }
   ],
   "source": [
    "x=13\n",
    "print(type(x))\n",
    "#or \n",
    "type(x)"
   ]
  },
  {
   "cell_type": "code",
   "execution_count": 16,
   "id": "14d53ea6",
   "metadata": {},
   "outputs": [
    {
     "name": "stdout",
     "output_type": "stream",
     "text": [
      "<class 'float'>\n"
     ]
    },
    {
     "data": {
      "text/plain": [
       "float"
      ]
     },
     "execution_count": 16,
     "metadata": {},
     "output_type": "execute_result"
    }
   ],
   "source": [
    "x=10.22\n",
    "\n",
    "print(type(x))\n",
    "type(x)"
   ]
  },
  {
   "cell_type": "code",
   "execution_count": 17,
   "id": "80aeeef6",
   "metadata": {},
   "outputs": [
    {
     "name": "stdout",
     "output_type": "stream",
     "text": [
      "<class 'complex'>\n"
     ]
    },
    {
     "data": {
      "text/plain": [
       "complex"
      ]
     },
     "execution_count": 17,
     "metadata": {},
     "output_type": "execute_result"
    }
   ],
   "source": [
    "x=55+11J\n",
    "print(type(x))\n",
    "type(x)"
   ]
  },
  {
   "cell_type": "code",
   "execution_count": 18,
   "id": "1d6d3475",
   "metadata": {},
   "outputs": [
    {
     "name": "stdout",
     "output_type": "stream",
     "text": [
      "<class 'str'>\n"
     ]
    },
    {
     "data": {
      "text/plain": [
       "str"
      ]
     },
     "execution_count": 18,
     "metadata": {},
     "output_type": "execute_result"
    }
   ],
   "source": [
    "x=\"abdo\"\n",
    "print(type(x))\n",
    "type(x)"
   ]
  },
  {
   "cell_type": "code",
   "execution_count": 12,
   "id": "834604b1",
   "metadata": {},
   "outputs": [
    {
     "name": "stdout",
     "output_type": "stream",
     "text": [
      "<class 'tuple'>\n"
     ]
    }
   ],
   "source": [
    "x=(2,3,6,4) #tuble using cotes()\n",
    "print(type(x))"
   ]
  },
  {
   "cell_type": "code",
   "execution_count": 15,
   "id": "4bef688c",
   "metadata": {},
   "outputs": [
    {
     "name": "stdout",
     "output_type": "stream",
     "text": [
      "<class 'list'>\n"
     ]
    }
   ],
   "source": [
    "x=[13,5,365] #list using []\n",
    "print(type(x))"
   ]
  },
  {
   "cell_type": "code",
   "execution_count": 19,
   "id": "203551cc",
   "metadata": {
    "scrolled": true
   },
   "outputs": [
    {
     "name": "stdout",
     "output_type": "stream",
     "text": [
      "<class 'set'>\n"
     ]
    }
   ],
   "source": [
    "x={45,232,98} #set using {}\n",
    "print(type(x))"
   ]
  },
  {
   "cell_type": "code",
   "execution_count": 36,
   "id": "9286c80a",
   "metadata": {},
   "outputs": [
    {
     "name": "stdout",
     "output_type": "stream",
     "text": [
      "<class '_io.TextIOWrapper'>\n"
     ]
    }
   ],
   "source": [
    "x=open('Python_Variables.ipynb','r') #you shoulde create that file : \"Python_Variables.ipynb\" to continue without error\n",
    "print(type(x))"
   ]
  },
  {
   "cell_type": "code",
   "execution_count": 37,
   "id": "fae73447",
   "metadata": {},
   "outputs": [
    {
     "name": "stdout",
     "output_type": "stream",
     "text": [
      "2 2 2\n"
     ]
    }
   ],
   "source": [
    "x=y=z=2\n",
    "print(x,y,z)"
   ]
  },
  {
   "cell_type": "code",
   "execution_count": 38,
   "id": "15ca949a",
   "metadata": {},
   "outputs": [
    {
     "name": "stdout",
     "output_type": "stream",
     "text": [
      "1\n",
      "6\n",
      "8\n"
     ]
    }
   ],
   "source": [
    "(x,y,z)=1,6,8\n",
    "print(x)\n",
    "print(y)\n",
    "print(z)"
   ]
  },
  {
   "cell_type": "code",
   "execution_count": 21,
   "id": "56043f31",
   "metadata": {},
   "outputs": [],
   "source": [
    "                               # rule for NAMING VARIABLES "
   ]
  },
  {
   "cell_type": "code",
   "execution_count": 24,
   "id": "a3eb243f",
   "metadata": {},
   "outputs": [
    {
     "ename": "SyntaxError",
     "evalue": "invalid syntax (3501300346.py, line 1)",
     "output_type": "error",
     "traceback": [
      "\u001b[1;36m  File \u001b[1;32m\"C:\\Users\\HP Elite BOOK\\AppData\\Local\\Temp\\ipykernel_18892\\3501300346.py\"\u001b[1;36m, line \u001b[1;32m1\u001b[0m\n\u001b[1;33m    @abd=14\u001b[0m\n\u001b[1;37m        ^\u001b[0m\n\u001b[1;31mSyntaxError\u001b[0m\u001b[1;31m:\u001b[0m invalid syntax\n"
     ]
    }
   ],
   "source": [
    "@abd=14\n",
    "#withouut charachter in frist"
   ]
  },
  {
   "cell_type": "code",
   "execution_count": 25,
   "id": "f13c3980",
   "metadata": {},
   "outputs": [
    {
     "ename": "SyntaxError",
     "evalue": "invalid syntax (3097594992.py, line 1)",
     "output_type": "error",
     "traceback": [
      "\u001b[1;36m  File \u001b[1;32m\"C:\\Users\\HP Elite BOOK\\AppData\\Local\\Temp\\ipykernel_7712\\3097594992.py\"\u001b[1;36m, line \u001b[1;32m1\u001b[0m\n\u001b[1;33m    2sd=\"1dxx\"\u001b[0m\n\u001b[1;37m     ^\u001b[0m\n\u001b[1;31mSyntaxError\u001b[0m\u001b[1;31m:\u001b[0m invalid syntax\n"
     ]
    }
   ],
   "source": [
    "2sd=\"1dxx\"\n",
    "#NO NUMBER first of naming variable"
   ]
  },
  {
   "cell_type": "code",
   "execution_count": 27,
   "id": "d0b4381d",
   "metadata": {},
   "outputs": [
    {
     "ename": "NameError",
     "evalue": "name 'a646' is not defined",
     "output_type": "error",
     "traceback": [
      "\u001b[1;31m---------------------------------------------------------------------------\u001b[0m",
      "\u001b[1;31mNameError\u001b[0m                                 Traceback (most recent call last)",
      "\u001b[1;32m~\\AppData\\Local\\Temp\\ipykernel_18892\\3566910878.py\u001b[0m in \u001b[0;36m<module>\u001b[1;34m\u001b[0m\n\u001b[1;32m----> 1\u001b[1;33m \u001b[0ma646\u001b[0m\u001b[1;33m&=\u001b[0m\u001b[1;36m16\u001b[0m\u001b[1;33m\u001b[0m\u001b[1;33m\u001b[0m\u001b[0m\n\u001b[0m\u001b[0;32m      2\u001b[0m \u001b[1;31m#not true\u001b[0m\u001b[1;33m\u001b[0m\u001b[1;33m\u001b[0m\u001b[0m\n",
      "\u001b[1;31mNameError\u001b[0m: name 'a646' is not defined"
     ]
    }
   ],
   "source": [
    "a646&=16\n",
    "#not true\n"
   ]
  },
  {
   "cell_type": "code",
   "execution_count": 28,
   "id": "9051e003",
   "metadata": {},
   "outputs": [
    {
     "ename": "SyntaxError",
     "evalue": "cannot assign to operator (4063545832.py, line 1)",
     "output_type": "error",
     "traceback": [
      "\u001b[1;36m  File \u001b[1;32m\"C:\\Users\\HP Elite BOOK\\AppData\\Local\\Temp\\ipykernel_18892\\4063545832.py\"\u001b[1;36m, line \u001b[1;32m1\u001b[0m\n\u001b[1;33m    xcd-33=15\u001b[0m\n\u001b[1;37m    ^\u001b[0m\n\u001b[1;31mSyntaxError\u001b[0m\u001b[1;31m:\u001b[0m cannot assign to operator\n"
     ]
    }
   ],
   "source": [
    "xcd-33=15\n",
    "#that not true"
   ]
  },
  {
   "cell_type": "code",
   "execution_count": 27,
   "id": "74771332",
   "metadata": {},
   "outputs": [],
   "source": [
    "ABB5=\"CCK\"\n",
    "# THAT IS TRUE"
   ]
  },
  {
   "cell_type": "code",
   "execution_count": 32,
   "id": "5d0f8303",
   "metadata": {},
   "outputs": [],
   "source": [
    "_AVV=33\n",
    "#THAT IS TRUE"
   ]
  },
  {
   "cell_type": "code",
   "execution_count": 29,
   "id": "7cceae5d",
   "metadata": {},
   "outputs": [],
   "source": [
    "_ada_=16\n",
    "#that is true"
   ]
  },
  {
   "cell_type": "code",
   "execution_count": 33,
   "id": "f1375ab1",
   "metadata": {},
   "outputs": [
    {
     "ename": "NameError",
     "evalue": "name '_AVV' is not defined",
     "output_type": "error",
     "traceback": [
      "\u001b[1;31m---------------------------------------------------------------------------\u001b[0m",
      "\u001b[1;31mNameError\u001b[0m                                 Traceback (most recent call last)",
      "\u001b[1;32m~\\AppData\\Local\\Temp\\ipykernel_18892\\3027278690.py\u001b[0m in \u001b[0;36m<module>\u001b[1;34m\u001b[0m\n\u001b[1;32m----> 1\u001b[1;33m \u001b[0mprint\u001b[0m\u001b[1;33m(\u001b[0m\u001b[0m_AVV\u001b[0m\u001b[1;33m,\u001b[0m\u001b[0m_ada_\u001b[0m\u001b[1;33m)\u001b[0m\u001b[1;33m\u001b[0m\u001b[1;33m\u001b[0m\u001b[0m\n\u001b[0m",
      "\u001b[1;31mNameError\u001b[0m: name '_AVV' is not defined"
     ]
    }
   ],
   "source": [
    "print(_AVV,_ada_)"
   ]
  },
  {
   "cell_type": "code",
   "execution_count": 35,
   "id": "19f15980",
   "metadata": {},
   "outputs": [],
   "source": [
    "# don't use special meaning word when you naming variable like : class =5\n",
    "#                                                               break=\"abdo\"\n",
    "#                                                               try=13"
   ]
  },
  {
   "cell_type": "code",
   "execution_count": 11,
   "id": "1c439adb",
   "metadata": {},
   "outputs": [
    {
     "data": {
      "text/plain": [
       "[<matplotlib.lines.Line2D at 0x206c326e640>]"
      ]
     },
     "execution_count": 11,
     "metadata": {},
     "output_type": "execute_result"
    },
    {
     "data": {
      "image/png": "[encoded data removed]",
      "text/plain": [
       "<Figure size 640x480 with 1 Axes>"
      ]
     },
     "metadata": {},
     "output_type": "display_data"
    }
   ],
   "source": [
    "#Graph of diagonal line\n",
    "import matplotlib.pyplot as plt\n",
    "plt.plot([1,2,3,4],[1,2,3,4])"
   ]
  },
  {
   "cell_type": "code",
   "execution_count": 14,
   "id": "0b404065",
   "metadata": {},
   "outputs": [
    {
     "data": {
      "image/png": "[encoded data removed]",
      "text/plain": [
       "<Figure size 640x480 with 1 Axes>"
      ]
     },
     "metadata": {},
     "output_type": "display_data"
    }
   ],
   "source": [
    "#simple graph\n",
    "plt.plot([1,2,3,4],[1,2,3,4])\n",
    "plt.plot([1,2,3,4],[1,2,3,4])\n",
    "plt.plot([1,2,3,4],[1,2,3,4])\n",
    "plt.plot([1,2,3,4],[1,2,3,4])\n",
    "plt.plot([1,2,3,4],[1,2,3,4])\n",
    "plt.show()"
   ]
  },
  {
   "cell_type": "code",
   "execution_count": 45,
   "id": "c2519ba8",
   "metadata": {},
   "outputs": [],
   "source": [
    "                                            #GOOD LUCK\n",
    "                                 #created by Abdulrahman Mohammed "
   ]
  }
 ],
 "metadata": {
  "kernelspec": {
   "display_name": "Python 3 (ipykernel)",
   "language": "python",
   "name": "python3"
  },
  "language_info": {
   "codemirror_mode": {
    "name": "ipython",
    "version": 3
   },
   "file_extension": ".py",
   "mimetype": "text/x-python",
   "name": "python",
   "nbconvert_exporter": "python",
   "pygments_lexer": "ipython3",
   "version": "3.9.13"
  }
 },
 "nbformat": 4,
 "nbformat_minor": 5
}
