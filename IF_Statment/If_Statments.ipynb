{
 "cells": [
  {
   "cell_type": "markdown",
   "id": "94bbb077",
   "metadata": {},
   "source": [
    "# IF _ ELSE_STATEMENTS"
   ]
  },
  {
   "cell_type": "code",
   "execution_count": 18,
   "id": "48891123",
   "metadata": {
    "scrolled": true
   },
   "outputs": [
    {
     "name": "stdout",
     "output_type": "stream",
     "text": [
      "  even number\n"
     ]
    }
   ],
   "source": [
    "i=20\n",
    "if i%2==0:\n",
    "      print(\"  even number\")\n",
    "else:\n",
    "    print(\"not even\")"
   ]
  },
  {
   "cell_type": "markdown",
   "id": "27f6c284",
   "metadata": {},
   "source": [
    "#                                  NESTED _IF"
   ]
  },
  {
   "cell_type": "code",
   "execution_count": 58,
   "id": "a02017d9",
   "metadata": {},
   "outputs": [
    {
     "name": "stdout",
     "output_type": "stream",
     "text": [
      "even and less 25\n"
     ]
    }
   ],
   "source": [
    "c=22\n",
    "if c<25:\n",
    "    if c%2==0:\n",
    "        print(\"even and less 25\")\n",
    "    else: \n",
    "        print(\"odd and less 25\")\n",
    "else :\n",
    "        print(\"greater than 25\")"
   ]
  },
  {
   "cell_type": "markdown",
   "id": "a3e76ffa",
   "metadata": {},
   "source": [
    "#                                 IF_ELIF_ELSE"
   ]
  },
  {
   "cell_type": "code",
   "execution_count": 61,
   "id": "792f92ac",
   "metadata": {},
   "outputs": [
    {
     "name": "stdout",
     "output_type": "stream",
     "text": [
      "is constant\n"
     ]
    }
   ],
   "source": [
    "var=\"Z\"\n",
    "if var ==\"c\":\n",
    "    print(\"that is true is equal to c\")\n",
    "elif var==\"a\":\n",
    "        print(\"equal a\")\n",
    "elif var==\"b\":\n",
    "            print(\"equal to b\")\n",
    "else :\n",
    "                print(\"is constant\")\n",
    "    "
   ]
  },
  {
   "cell_type": "markdown",
   "id": "570f5a46",
   "metadata": {},
   "source": [
    "#    GOOOD LUCK\n",
    " Abdulrahman Mohammed"
   ]
  }
 ],
 "metadata": {
  "kernelspec": {
   "display_name": "Python 3 (ipykernel)",
   "language": "python",
   "name": "python3"
  },
  "language_info": {
   "codemirror_mode": {
    "name": "ipython",
    "version": 3
   },
   "file_extension": ".py",
   "mimetype": "text/x-python",
   "name": "python",
   "nbconvert_exporter": "python",
   "pygments_lexer": "ipython3",
   "version": "3.9.13"
  }
 },
 "nbformat": 4,
 "nbformat_minor": 5
}
