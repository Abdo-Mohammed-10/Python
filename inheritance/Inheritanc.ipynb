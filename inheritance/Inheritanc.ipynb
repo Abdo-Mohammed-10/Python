{
 "cells": [
  {
   "cell_type": "markdown",
   "id": "06d07653",
   "metadata": {},
   "source": [
    "# Inheritanc"
   ]
  },
  {
   "cell_type": "code",
   "execution_count": 1,
   "id": "0069cb4e",
   "metadata": {},
   "outputs": [],
   "source": [
    "class car():\n",
    "    def __init__(self,year,speed):\n",
    "        self.year=year\n",
    "        self.speed=speed\n",
    "    def getspeed(self):\n",
    "        print(\" speed is \",self.speed, \"mph\" )\n",
    "    def setspeed(self,speed):\n",
    "        self.speed=speed"
   ]
  },
  {
   "cell_type": "code",
   "execution_count": 7,
   "id": "e9c0abc4",
   "metadata": {},
   "outputs": [],
   "source": [
    "BMW=car(2015,160)"
   ]
  },
  {
   "cell_type": "code",
   "execution_count": 12,
   "id": "14789ece",
   "metadata": {},
   "outputs": [
    {
     "name": "stdout",
     "output_type": "stream",
     "text": [
      " speed is  160 mph\n",
      " speed is  150 mph\n",
      "trunk has been opened\n",
      "137\n"
     ]
    }
   ],
   "source": [
    "class sedan (car): # child class\n",
    "    def accelerate(self):\n",
    "        print('137')\n",
    "    def opentrunk(self):\n",
    "        print('trunk has been opened')\n",
    "class suv(car): # child class\n",
    "     def accelerate(self):\n",
    "        print('100')\n",
    "honda=sedan(2018,150)\n",
    "BMW.getspeed()\n",
    "honda.getspeed()\n",
    "honda.opentrunk()\n",
    "honda.accelerate()"
   ]
  },
  {
   "cell_type": "markdown",
   "id": "486b1ccf",
   "metadata": {},
   "source": [
    "# Goood Luck\n",
    "Abdulrahman Mohammed"
   ]
  }
 ],
 "metadata": {
  "kernelspec": {
   "display_name": "Python 3 (ipykernel)",
   "language": "python",
   "name": "python3"
  },
  "language_info": {
   "codemirror_mode": {
    "name": "ipython",
    "version": 3
   },
   "file_extension": ".py",
   "mimetype": "text/x-python",
   "name": "python",
   "nbconvert_exporter": "python",
   "pygments_lexer": "ipython3",
   "version": "3.9.13"
  }
 },
 "nbformat": 4,
 "nbformat_minor": 5
}
