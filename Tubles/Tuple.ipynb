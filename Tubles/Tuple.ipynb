{
 "cells": [
  {
   "cell_type": "markdown",
   "id": "fd79c8cd",
   "metadata": {},
   "source": [
    "#                                         python tuples\n",
    "                                   using parentheses () or not "
   ]
  },
  {
   "cell_type": "markdown",
   "id": "3969223e",
   "metadata": {},
   "source": [
    "#                                         creating tuples"
   ]
  },
  {
   "cell_type": "code",
   "execution_count": 3,
   "id": "b666cddc",
   "metadata": {},
   "outputs": [
    {
     "name": "stdout",
     "output_type": "stream",
     "text": [
      "<class 'tuple'>\n"
     ]
    }
   ],
   "source": [
    "emp=()\n",
    "print(type(emp))"
   ]
  },
  {
   "cell_type": "code",
   "execution_count": 7,
   "id": "17d3bc35",
   "metadata": {},
   "outputs": [
    {
     "name": "stdout",
     "output_type": "stream",
     "text": [
      "<class 'str'>\n",
      "<class 'tuple'>\n"
     ]
    }
   ],
   "source": [
    "city=\"abdo\",\n",
    "# note comma ( , )  make variable his type tuble .\n",
    "c=\"d\"\n",
    "print(type(c))\n",
    "print(type(city))"
   ]
  },
  {
   "cell_type": "code",
   "execution_count": 8,
   "id": "74cf8a99",
   "metadata": {},
   "outputs": [
    {
     "data": {
      "text/plain": [
       "tuple"
      ]
     },
     "execution_count": 8,
     "metadata": {},
     "output_type": "execute_result"
    }
   ],
   "source": [
    "city=(\"a\",\"b\")\n",
    "type(city)"
   ]
  },
  {
   "cell_type": "code",
   "execution_count": 9,
   "id": "ae296255",
   "metadata": {},
   "outputs": [
    {
     "name": "stdout",
     "output_type": "stream",
     "text": [
      "<class 'tuple'>\n"
     ]
    }
   ],
   "source": [
    "print(type(city))"
   ]
  },
  {
   "cell_type": "code",
   "execution_count": 10,
   "id": "9c48d855",
   "metadata": {},
   "outputs": [
    {
     "data": {
      "text/plain": [
       "('a', 'b')"
      ]
     },
     "execution_count": 10,
     "metadata": {},
     "output_type": "execute_result"
    }
   ],
   "source": [
    "city"
   ]
  },
  {
   "cell_type": "code",
   "execution_count": 11,
   "id": "7dafb55e",
   "metadata": {},
   "outputs": [
    {
     "name": "stdout",
     "output_type": "stream",
     "text": [
      "<class 'tuple'>\n"
     ]
    }
   ],
   "source": [
    "city=15,16 # note that \n",
    "print(type(city))"
   ]
  },
  {
   "cell_type": "markdown",
   "id": "4564cb46",
   "metadata": {},
   "source": [
    "#                             Accesing"
   ]
  },
  {
   "cell_type": "code",
   "execution_count": 20,
   "id": "6ca7fb24",
   "metadata": {},
   "outputs": [
    {
     "data": {
      "text/plain": [
       "16"
      ]
     },
     "execution_count": 20,
     "metadata": {},
     "output_type": "execute_result"
    }
   ],
   "source": [
    "city[1]"
   ]
  },
  {
   "cell_type": "code",
   "execution_count": 19,
   "id": "0bb9e105",
   "metadata": {},
   "outputs": [
    {
     "data": {
      "text/plain": [
       "15"
      ]
     },
     "execution_count": 19,
     "metadata": {},
     "output_type": "execute_result"
    }
   ],
   "source": [
    "city[0]"
   ]
  },
  {
   "cell_type": "code",
   "execution_count": 23,
   "id": "a79749c4",
   "metadata": {},
   "outputs": [
    {
     "data": {
      "text/plain": [
       "-1"
      ]
     },
     "execution_count": 23,
     "metadata": {},
     "output_type": "execute_result"
    }
   ],
   "source": [
    "city[0]-city[1]"
   ]
  },
  {
   "cell_type": "code",
   "execution_count": 14,
   "id": "15fa508f",
   "metadata": {},
   "outputs": [
    {
     "ename": "AttributeError",
     "evalue": "'tuple' object has no attribute 'append'",
     "output_type": "error",
     "traceback": [
      "\u001b[1;31m---------------------------------------------------------------------------\u001b[0m",
      "\u001b[1;31mAttributeError\u001b[0m                            Traceback (most recent call last)",
      "\u001b[1;32m~\\AppData\\Local\\Temp\\ipykernel_11000\\3173510813.py\u001b[0m in \u001b[0;36m<module>\u001b[1;34m\u001b[0m\n\u001b[1;32m----> 1\u001b[1;33m \u001b[0mcity\u001b[0m\u001b[1;33m.\u001b[0m\u001b[0mappend\u001b[0m\u001b[1;33m(\u001b[0m\u001b[1;34m\"am\"\u001b[0m\u001b[1;33m)\u001b[0m \u001b[1;31m# U cannot use append with tuples\u001b[0m\u001b[1;33m\u001b[0m\u001b[1;33m\u001b[0m\u001b[0m\n\u001b[0m",
      "\u001b[1;31mAttributeError\u001b[0m: 'tuple' object has no attribute 'append'"
     ]
    }
   ],
   "source": [
    "city.append(\"am\") # U cannot use append with tuples"
   ]
  },
  {
   "cell_type": "markdown",
   "id": "459408b6",
   "metadata": {},
   "source": [
    "#                               concatenation"
   ]
  },
  {
   "cell_type": "code",
   "execution_count": 15,
   "id": "9f25ca7a",
   "metadata": {},
   "outputs": [
    {
     "name": "stdout",
     "output_type": "stream",
     "text": [
      "(1, 2, 3, 5, 'ab', 'as', 'cc', 'vc')\n"
     ]
    }
   ],
   "source": [
    "c=(1,2,3,5)\n",
    "a=(\"ab\",\"as\",\"cc\",\"vc\")\n",
    "print(c+a) # only arthimitic u can use it with tuples "
   ]
  },
  {
   "cell_type": "markdown",
   "id": "16bc468e",
   "metadata": {},
   "source": [
    "#                                    NESTING\n",
    "             nesting in tuble mean make in side tuble many tubles"
   ]
  },
  {
   "cell_type": "code",
   "execution_count": 17,
   "id": "5eb65998",
   "metadata": {},
   "outputs": [
    {
     "name": "stdout",
     "output_type": "stream",
     "text": [
      "((1, 2, 3, 5), ('ab', 'as', 'cc', 'vc'))\n"
     ]
    }
   ],
   "source": [
    "nest=(c,a)\n",
    "print(nest)"
   ]
  },
  {
   "cell_type": "markdown",
   "id": "392f231a",
   "metadata": {},
   "source": [
    "#                                        Repetition "
   ]
  },
  {
   "cell_type": "code",
   "execution_count": 28,
   "id": "e1b167e2",
   "metadata": {},
   "outputs": [
    {
     "name": "stdout",
     "output_type": "stream",
     "text": [
      "ppppp\n"
     ]
    }
   ],
   "source": [
    "rep=(\"p\")*5\n",
    "print(rep)"
   ]
  },
  {
   "cell_type": "code",
   "execution_count": 29,
   "id": "47ac853e",
   "metadata": {},
   "outputs": [
    {
     "name": "stdout",
     "output_type": "stream",
     "text": [
      "ccccc\n"
     ]
    }
   ],
   "source": [
    "rep=\"c\"*5\n",
    "print(rep)"
   ]
  },
  {
   "cell_type": "code",
   "execution_count": 30,
   "id": "e30c7c25",
   "metadata": {},
   "outputs": [
    {
     "name": "stdout",
     "output_type": "stream",
     "text": [
      "('gg', 'gg', 'gg')\n"
     ]
    }
   ],
   "source": [
    "rep=(\"gg\",)\n",
    "print(rep*3)"
   ]
  },
  {
   "cell_type": "code",
   "execution_count": 31,
   "id": "17c49c8c",
   "metadata": {},
   "outputs": [
    {
     "name": "stdout",
     "output_type": "stream",
     "text": [
      "('gg',)\n"
     ]
    }
   ],
   "source": [
    "print(rep) # print the last value are stored in rep --->> \"gg\", "
   ]
  },
  {
   "cell_type": "markdown",
   "id": "722dad91",
   "metadata": {},
   "source": [
    "#                                            slicing"
   ]
  },
  {
   "cell_type": "code",
   "execution_count": 32,
   "id": "bb1f9935",
   "metadata": {},
   "outputs": [
    {
     "data": {
      "text/plain": [
       "(2, 3, 6, 5, 88)"
      ]
     },
     "execution_count": 32,
     "metadata": {},
     "output_type": "execute_result"
    }
   ],
   "source": [
    "n=(1,2,3,6,5,88)\n",
    "n[1::]"
   ]
  },
  {
   "cell_type": "code",
   "execution_count": 33,
   "id": "f14c6983",
   "metadata": {},
   "outputs": [
    {
     "data": {
      "text/plain": [
       "(2, 3, 6, 5, 88)"
      ]
     },
     "execution_count": 33,
     "metadata": {},
     "output_type": "execute_result"
    }
   ],
   "source": [
    "n[1:]"
   ]
  },
  {
   "cell_type": "code",
   "execution_count": 32,
   "id": "cd35b16c",
   "metadata": {},
   "outputs": [
    {
     "data": {
      "text/plain": [
       "(88, 5, 6, 3, 2, 1)"
      ]
     },
     "execution_count": 32,
     "metadata": {},
     "output_type": "execute_result"
    }
   ],
   "source": [
    "n[::-1] # ---> flip"
   ]
  },
  {
   "cell_type": "code",
   "execution_count": 38,
   "id": "35dc768a",
   "metadata": {},
   "outputs": [
    {
     "data": {
      "text/plain": [
       "(1, 2, 3, 6, 5, 88, 1, 2, 3, 6, 5, 88, 1, 2, 3, 6, 5, 88)"
      ]
     },
     "execution_count": 38,
     "metadata": {},
     "output_type": "execute_result"
    }
   ],
   "source": [
    "n*3"
   ]
  },
  {
   "cell_type": "markdown",
   "id": "f24a9fca",
   "metadata": {},
   "source": [
    "# Unpacking"
   ]
  },
  {
   "cell_type": "code",
   "execution_count": 43,
   "id": "bdcb5b74",
   "metadata": {},
   "outputs": [
    {
     "data": {
      "text/plain": [
       "('s', 'i', 'm', 'p', 'l', 'e')"
      ]
     },
     "execution_count": 43,
     "metadata": {},
     "output_type": "execute_result"
    }
   ],
   "source": [
    " tuple(\"simple\")"
   ]
  },
  {
   "cell_type": "code",
   "execution_count": 36,
   "id": "5740ede9",
   "metadata": {},
   "outputs": [
    {
     "name": "stdout",
     "output_type": "stream",
     "text": [
      "2 5 6 9\n"
     ]
    }
   ],
   "source": [
    "num=(2,5,6,9)\n",
    "a,b,c,d=num\n",
    "print(a,b,c,d)"
   ]
  },
  {
   "cell_type": "code",
   "execution_count": 37,
   "id": "71e8bfaf",
   "metadata": {},
   "outputs": [
    {
     "name": "stdout",
     "output_type": "stream",
     "text": [
      "[2, 5] 6 9\n"
     ]
    }
   ],
   "source": [
    "*a,b,c=num    # ---->> here make elements (a and b) in side list and other element print them normaly\n",
    "print(a,b,c)        # i mean make the element and the element after it in side list"
   ]
  },
  {
   "cell_type": "code",
   "execution_count": 38,
   "id": "8b5a5d93",
   "metadata": {},
   "outputs": [
    {
     "name": "stdout",
     "output_type": "stream",
     "text": [
      "2 [5, 6] 9\n"
     ]
    }
   ],
   "source": [
    "a,*b,c=num   #----->> # ---->> here make elements (b and c)in side list and other element print them normaly\n",
    "print(a,b,c)"
   ]
  },
  {
   "cell_type": "markdown",
   "id": "46b587ae",
   "metadata": {},
   "source": [
    "#                                           deleting tuples"
   ]
  },
  {
   "cell_type": "code",
   "execution_count": 39,
   "id": "3325814c",
   "metadata": {},
   "outputs": [
    {
     "data": {
      "text/plain": [
       "(1, 2, 3)"
      ]
     },
     "execution_count": 39,
     "metadata": {},
     "output_type": "execute_result"
    }
   ],
   "source": [
    "t=(1,2,3)\n",
    "t\n"
   ]
  },
  {
   "cell_type": "code",
   "execution_count": 40,
   "id": "263f1cca",
   "metadata": {},
   "outputs": [],
   "source": [
    "del t"
   ]
  },
  {
   "cell_type": "code",
   "execution_count": 42,
   "id": "1d6cf885",
   "metadata": {},
   "outputs": [
    {
     "ename": "NameError",
     "evalue": "name 't' is not defined",
     "output_type": "error",
     "traceback": [
      "\u001b[1;31m---------------------------------------------------------------------------\u001b[0m",
      "\u001b[1;31mNameError\u001b[0m                                 Traceback (most recent call last)",
      "\u001b[1;32m~\\AppData\\Local\\Temp\\ipykernel_12972\\571192786.py\u001b[0m in \u001b[0;36m<module>\u001b[1;34m\u001b[0m\n\u001b[1;32m----> 1\u001b[1;33m \u001b[0mprint\u001b[0m\u001b[1;33m(\u001b[0m\u001b[0mt\u001b[0m\u001b[1;33m)\u001b[0m \u001b[1;31m# after del the tuple not defined and u cannot ----->> print it so you will see error\u001b[0m\u001b[1;33m\u001b[0m\u001b[1;33m\u001b[0m\u001b[0m\n\u001b[0m",
      "\u001b[1;31mNameError\u001b[0m: name 't' is not defined"
     ]
    }
   ],
   "source": [
    "print(t) # after del the tuple not defined and u cannot ----->> print it so you will see error "
   ]
  },
  {
   "cell_type": "markdown",
   "id": "ffbe89c2",
   "metadata": {},
   "source": [
    "#                                       built in function"
   ]
  },
  {
   "cell_type": "code",
   "execution_count": 1,
   "id": "66eb1625",
   "metadata": {},
   "outputs": [
    {
     "data": {
      "text/plain": [
       "2"
      ]
     },
     "execution_count": 1,
     "metadata": {},
     "output_type": "execute_result"
    }
   ],
   "source": [
    "c=(1,2,3,6,5,5)\n",
    "c.count(5)"
   ]
  },
  {
   "cell_type": "code",
   "execution_count": 2,
   "id": "74e99afb",
   "metadata": {},
   "outputs": [
    {
     "data": {
      "text/plain": [
       "22"
      ]
     },
     "execution_count": 2,
     "metadata": {},
     "output_type": "execute_result"
    }
   ],
   "source": [
    "sum(c)"
   ]
  },
  {
   "cell_type": "code",
   "execution_count": 4,
   "id": "2c4c39de",
   "metadata": {},
   "outputs": [
    {
     "data": {
      "text/plain": [
       "6"
      ]
     },
     "execution_count": 4,
     "metadata": {},
     "output_type": "execute_result"
    }
   ],
   "source": [
    "len(c) "
   ]
  },
  {
   "cell_type": "code",
   "execution_count": 5,
   "id": "aae80438",
   "metadata": {},
   "outputs": [
    {
     "data": {
      "text/plain": [
       "6"
      ]
     },
     "execution_count": 5,
     "metadata": {},
     "output_type": "execute_result"
    }
   ],
   "source": [
    "max(c)"
   ]
  },
  {
   "cell_type": "code",
   "execution_count": 6,
   "id": "7ec077d5",
   "metadata": {},
   "outputs": [
    {
     "data": {
      "text/plain": [
       "1"
      ]
     },
     "execution_count": 6,
     "metadata": {},
     "output_type": "execute_result"
    }
   ],
   "source": [
    "min(c)"
   ]
  },
  {
   "cell_type": "markdown",
   "id": "894d402f",
   "metadata": {},
   "source": [
    "# Converting list to tuple "
   ]
  },
  {
   "cell_type": "code",
   "execution_count": 17,
   "id": "7ff6758f",
   "metadata": {},
   "outputs": [],
   "source": [
    "lis1=[5,6,\"gg\"]"
   ]
  },
  {
   "cell_type": "code",
   "execution_count": 18,
   "id": "8f31387d",
   "metadata": {},
   "outputs": [],
   "source": [
    "b=tuple(lis1)"
   ]
  },
  {
   "cell_type": "code",
   "execution_count": 19,
   "id": "b2790d74",
   "metadata": {},
   "outputs": [
    {
     "data": {
      "text/plain": [
       "tuple"
      ]
     },
     "execution_count": 19,
     "metadata": {},
     "output_type": "execute_result"
    }
   ],
   "source": [
    "type(b)"
   ]
  },
  {
   "cell_type": "code",
   "execution_count": 20,
   "id": "d3266c6b",
   "metadata": {},
   "outputs": [
    {
     "data": {
      "text/plain": [
       "list"
      ]
     },
     "execution_count": 20,
     "metadata": {},
     "output_type": "execute_result"
    }
   ],
   "source": [
    "type(lis1)"
   ]
  },
  {
   "cell_type": "markdown",
   "id": "34a30a36",
   "metadata": {},
   "source": [
    "# Nesting tuples in a list "
   ]
  },
  {
   "cell_type": "code",
   "execution_count": 1,
   "id": "80fedf5b",
   "metadata": {},
   "outputs": [],
   "source": [
    "lst=[(1,2,5),(6,9,4,5)]"
   ]
  },
  {
   "cell_type": "code",
   "execution_count": 2,
   "id": "acc9c88f",
   "metadata": {},
   "outputs": [
    {
     "name": "stdout",
     "output_type": "stream",
     "text": [
      "[(1, 2, 5), (6, 9, 4, 5)]\n"
     ]
    }
   ],
   "source": [
    "print(lst)"
   ]
  },
  {
   "cell_type": "code",
   "execution_count": 4,
   "id": "b02f276e",
   "metadata": {},
   "outputs": [],
   "source": [
    "lst.append((\"dd\",\"ck\",\"ddo\"))"
   ]
  },
  {
   "cell_type": "code",
   "execution_count": 5,
   "id": "2556dd35",
   "metadata": {
    "scrolled": true
   },
   "outputs": [
    {
     "name": "stdout",
     "output_type": "stream",
     "text": [
      "[(1, 2, 5), (6, 9, 4, 5), ('dd', 'ck', 'ddo')]\n"
     ]
    }
   ],
   "source": [
    "print(lst)"
   ]
  },
  {
   "cell_type": "code",
   "execution_count": 6,
   "id": "60330b1a",
   "metadata": {},
   "outputs": [],
   "source": [
    "lst.remove((1, 2, 5))"
   ]
  },
  {
   "cell_type": "code",
   "execution_count": 7,
   "id": "3ead41a5",
   "metadata": {},
   "outputs": [
    {
     "name": "stdout",
     "output_type": "stream",
     "text": [
      "[(6, 9, 4, 5), ('dd', 'ck', 'ddo')]\n"
     ]
    }
   ],
   "source": [
    "print(lst)"
   ]
  },
  {
   "cell_type": "markdown",
   "id": "248f1df6",
   "metadata": {},
   "source": [
    "# Nesting lists within tuple"
   ]
  },
  {
   "cell_type": "code",
   "execution_count": 32,
   "id": "4b3c3b82",
   "metadata": {},
   "outputs": [],
   "source": [
    "tp=(['a','b','c'],['c',15,36])"
   ]
  },
  {
   "cell_type": "code",
   "execution_count": 33,
   "id": "506744b9",
   "metadata": {},
   "outputs": [
    {
     "name": "stdout",
     "output_type": "stream",
     "text": [
      "(['a', 'b', 'c'], ['c', 15, 36])\n"
     ]
    }
   ],
   "source": [
    "print(tp)"
   ]
  },
  {
   "cell_type": "code",
   "execution_count": 34,
   "id": "12e62861",
   "metadata": {},
   "outputs": [],
   "source": [
    "tp[0].append('z')"
   ]
  },
  {
   "cell_type": "code",
   "execution_count": 35,
   "id": "bb0673c0",
   "metadata": {},
   "outputs": [
    {
     "name": "stdout",
     "output_type": "stream",
     "text": [
      "(['a', 'b', 'c', 'z'], ['c', 15, 36])\n"
     ]
    }
   ],
   "source": [
    "print(tp)"
   ]
  },
  {
   "cell_type": "code",
   "execution_count": 36,
   "id": "326bd2e9",
   "metadata": {},
   "outputs": [],
   "source": [
    "tp[0].remove('c')"
   ]
  },
  {
   "cell_type": "code",
   "execution_count": 37,
   "id": "7703868c",
   "metadata": {},
   "outputs": [
    {
     "name": "stdout",
     "output_type": "stream",
     "text": [
      "(['a', 'b', 'z'], ['c', 15, 36])\n"
     ]
    }
   ],
   "source": [
    "print(tp)"
   ]
  },
  {
   "cell_type": "code",
   "execution_count": 38,
   "id": "d3885485",
   "metadata": {},
   "outputs": [
    {
     "ename": "AttributeError",
     "evalue": "'tuple' object has no attribute 'append'",
     "output_type": "error",
     "traceback": [
      "\u001b[1;31m---------------------------------------------------------------------------\u001b[0m",
      "\u001b[1;31mAttributeError\u001b[0m                            Traceback (most recent call last)",
      "\u001b[1;32m~\\AppData\\Local\\Temp\\ipykernel_21380\\4242783352.py\u001b[0m in \u001b[0;36m<module>\u001b[1;34m\u001b[0m\n\u001b[1;32m----> 1\u001b[1;33m \u001b[0mtp\u001b[0m\u001b[1;33m.\u001b[0m\u001b[0mappend\u001b[0m\u001b[1;33m(\u001b[0m\u001b[1;33m[\u001b[0m\u001b[1;34m'd'\u001b[0m\u001b[1;33m,\u001b[0m\u001b[1;36m5\u001b[0m\u001b[1;33m,\u001b[0m\u001b[1;36m6\u001b[0m\u001b[1;33m]\u001b[0m\u001b[1;33m)\u001b[0m\u001b[1;33m\u001b[0m\u001b[1;33m\u001b[0m\u001b[0m\n\u001b[0m",
      "\u001b[1;31mAttributeError\u001b[0m: 'tuple' object has no attribute 'append'"
     ]
    }
   ],
   "source": [
    "tp.append(['d',5,6]) # --->> U CAN'T append in tuple"
   ]
  },
  {
   "cell_type": "markdown",
   "id": "af159573",
   "metadata": {},
   "source": [
    "#                                        GOOOOOOD LUCK\n",
    "                    created by Abdulrahman Mohammed  💕❤️"
   ]
  }
 ],
 "metadata": {
  "kernelspec": {
   "display_name": "Python 3 (ipykernel)",
   "language": "python",
   "name": "python3"
  },
  "language_info": {
   "codemirror_mode": {
    "name": "ipython",
    "version": 3
   },
   "file_extension": ".py",
   "mimetype": "text/x-python",
   "name": "python",
   "nbconvert_exporter": "python",
   "pygments_lexer": "ipython3",
   "version": "3.9.13"
  }
 },
 "nbformat": 4,
 "nbformat_minor": 5
}
