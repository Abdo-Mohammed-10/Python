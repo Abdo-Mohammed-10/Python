{
 "cells": [
  {
   "cell_type": "markdown",
   "id": "6cc02856",
   "metadata": {},
   "source": [
    "# modules"
   ]
  },
  {
   "cell_type": "markdown",
   "id": "1458c7a0",
   "metadata": {},
   "source": [
    "# TIME"
   ]
  },
  {
   "cell_type": "code",
   "execution_count": 17,
   "id": "88169901",
   "metadata": {},
   "outputs": [
    {
     "data": {
      "text/plain": [
       "time.struct_time(tm_year=2023, tm_mon=7, tm_mday=19, tm_hour=6, tm_min=40, tm_sec=56, tm_wday=2, tm_yday=200, tm_isdst=0)"
      ]
     },
     "execution_count": 17,
     "metadata": {},
     "output_type": "execute_result"
    }
   ],
   "source": [
    "import time  as t\n",
    "t.localtime()"
   ]
  },
  {
   "cell_type": "code",
   "execution_count": 18,
   "id": "c7d2450b",
   "metadata": {},
   "outputs": [
    {
     "name": "stdout",
     "output_type": "stream",
     "text": [
      "transactions completed at 6 h 40 m\n"
     ]
    }
   ],
   "source": [
    "time=t.localtime()\n",
    "print(\"transactions completed at\", str(time.tm_hour) + \" h \" + str(time.tm_min)+\" m\")"
   ]
  },
  {
   "cell_type": "code",
   "execution_count": 19,
   "id": "f06a8358",
   "metadata": {},
   "outputs": [
    {
     "data": {
      "text/plain": [
       "1689741674.686062"
      ]
     },
     "execution_count": 19,
     "metadata": {},
     "output_type": "execute_result"
    }
   ],
   "source": [
    "t.time()"
   ]
  },
  {
   "cell_type": "code",
   "execution_count": 20,
   "id": "7892d6f5",
   "metadata": {},
   "outputs": [
    {
     "data": {
      "text/plain": [
       "1689741680.6520472"
      ]
     },
     "execution_count": 20,
     "metadata": {},
     "output_type": "execute_result"
    }
   ],
   "source": [
    "t.time()"
   ]
  },
  {
   "cell_type": "code",
   "execution_count": 21,
   "id": "a904bd55",
   "metadata": {},
   "outputs": [],
   "source": [
    "t_now=t.time()"
   ]
  },
  {
   "cell_type": "code",
   "execution_count": 24,
   "id": "75ac3f8d",
   "metadata": {},
   "outputs": [
    {
     "data": {
      "text/plain": [
       "time.struct_time(tm_year=2023, tm_mon=7, tm_mday=26, tm_hour=6, tm_min=43, tm_sec=4, tm_wday=2, tm_yday=207, tm_isdst=0)"
      ]
     },
     "execution_count": 24,
     "metadata": {},
     "output_type": "execute_result"
    }
   ],
   "source": [
    "delivery_time= t_now + (86400 * 7)  # 86400 seconds of day \n",
    "t.localtime(delivery_time)"
   ]
  },
  {
   "cell_type": "code",
   "execution_count": 26,
   "id": "8bb80a53",
   "metadata": {},
   "outputs": [],
   "source": [
    "t.sleep(5) # make this cell sleep 5 seconds after that the line will run ."
   ]
  },
  {
   "cell_type": "markdown",
   "id": "5e965870",
   "metadata": {},
   "source": [
    "# Good lUCK\n",
    "Abdulrahaman Mohammed"
   ]
  }
 ],
 "metadata": {
  "kernelspec": {
   "display_name": "Python 3 (ipykernel)",
   "language": "python",
   "name": "python3"
  },
  "language_info": {
   "codemirror_mode": {
    "name": "ipython",
    "version": 3
   },
   "file_extension": ".py",
   "mimetype": "text/x-python",
   "name": "python",
   "nbconvert_exporter": "python",
   "pygments_lexer": "ipython3",
   "version": "3.9.13"
  }
 },
 "nbformat": 4,
 "nbformat_minor": 5
}
